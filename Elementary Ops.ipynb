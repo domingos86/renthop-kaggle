{
 "cells": [
  {
   "cell_type": "code",
   "execution_count": 2,
   "metadata": {
    "collapsed": true,
    "deletable": true,
    "editable": true
   },
   "outputs": [],
   "source": [
    "import pandas as pd\n",
    "import numpy as np\n",
    "import json\n",
    "import matplotlib.pyplot as plt\n",
    "import re\n",
    "%matplotlib inline"
   ]
  },
  {
   "cell_type": "markdown",
   "metadata": {
    "deletable": true,
    "editable": true
   },
   "source": [
    "Get data and convert it into a pandas dataframe"
   ]
  },
  {
   "cell_type": "code",
   "execution_count": 2,
   "metadata": {
    "collapsed": true,
    "deletable": true,
    "editable": true
   },
   "outputs": [],
   "source": [
    "dir = r\"C:/Users/sandh/Dropbox/FRM/Bootcamp/Projects/Project 3/twosigma/\"\n",
    "train = r\"C:/Users/sandh/Dropbox/FRM/Bootcamp/Projects/Project 3/twosigma/train.json/train.json\"\n",
    "test = r\"C:/Users/sandh/Dropbox/FRM/Bootcamp/Projects/Project 3/twosigma/train.json/test.json\"\n",
    "\n",
    "\n",
    "data_file = open(train, 'r')\n",
    "data = json.load(data_file)\n",
    "data_file.close()\n",
    "\n",
    "df = pd.DataFrame(data)"
   ]
  },
  {
   "cell_type": "code",
   "execution_count": 3,
   "metadata": {
    "collapsed": false,
    "deletable": true,
    "editable": true
   },
   "outputs": [
    {
     "name": "stdout",
     "output_type": "stream",
     "text": [
      "Index(['bathrooms', 'bedrooms', 'building_id', 'created', 'description',\n",
      "       'display_address', 'features', 'interest_level', 'latitude',\n",
      "       'listing_id', 'longitude', 'manager_id', 'photos', 'price',\n",
      "       'street_address'],\n",
      "      dtype='object')\n"
     ]
    }
   ],
   "source": [
    "print(df.columns)"
   ]
  },
  {
   "cell_type": "markdown",
   "metadata": {
    "deletable": true,
    "editable": true
   },
   "source": [
    "Get the features column. Remove - and double \\*. Then use \\* to split the features and combine all of them into a list. Convert it into a series at the end."
   ]
  },
  {
   "cell_type": "code",
   "execution_count": 4,
   "metadata": {
    "collapsed": false,
    "deletable": true,
    "editable": true
   },
   "outputs": [],
   "source": [
    "features = df['features'].tolist()\n",
    "features_list = []\n",
    "for feature in features:\n",
    "    temp = []\n",
    "    if feature != []:\n",
    "        for f in feature:\n",
    "            f = f.lower()\n",
    "            f = re.sub(\"[-]\", \"\", f)\n",
    "            if ' * ' in f:    \n",
    "                f = f.split(' * ')\n",
    "                for element in f:\n",
    "                    element = re.sub(\"[**]\", \"\", element)\n",
    "                    temp.append(element.strip())\n",
    "            else:\n",
    "                temp.append(f.strip())    \n",
    "    features_list.append(temp)\n",
    "features = pd.Series(features_list)"
   ]
  },
  {
   "cell_type": "code",
   "execution_count": 5,
   "metadata": {
    "collapsed": false,
    "deletable": true,
    "editable": true
   },
   "outputs": [
    {
     "name": "stdout",
     "output_type": "stream",
     "text": [
      "(49352,)\n"
     ]
    }
   ],
   "source": [
    "print(features.shape)"
   ]
  },
  {
   "cell_type": "code",
   "execution_count": 6,
   "metadata": {
    "collapsed": false,
    "deletable": true,
    "editable": true
   },
   "outputs": [],
   "source": [
    "flattenFeatures = pd.Series([l.strip() for subL in features_list for l in subL])"
   ]
  },
  {
   "cell_type": "code",
   "execution_count": 7,
   "metadata": {
    "collapsed": false,
    "deletable": true,
    "editable": true,
    "scrolled": false
   },
   "outputs": [
    {
     "data": {
      "text/plain": [
       "1438"
      ]
     },
     "execution_count": 7,
     "metadata": {},
     "output_type": "execute_result"
    }
   ],
   "source": [
    "uniqueFeatures = flattenFeatures.drop_duplicates()\n",
    "len(uniqueFeatures)"
   ]
  },
  {
   "cell_type": "code",
   "execution_count": 8,
   "metadata": {
    "collapsed": false,
    "deletable": true,
    "editable": true,
    "scrolled": true
   },
   "outputs": [],
   "source": [
    "g = flattenFeatures.value_counts()\n",
    "keepFeatures = g.index"
   ]
  },
  {
   "cell_type": "code",
   "execution_count": 9,
   "metadata": {
    "collapsed": false,
    "deletable": true,
    "editable": true
   },
   "outputs": [
    {
     "name": "stdout",
     "output_type": "stream",
     "text": [
      "(49352, 1440)\n",
      "Index(['elevator', 'hardwood floors', 'cats allowed', 'dogs allowed',\n",
      "       'doorman', 'dishwasher', 'laundry in building', 'no fee',\n",
      "       'fitness center', 'prewar',\n",
      "       ...\n",
      "       'modern village marvel', 'two private balconies',\n",
      "       'brand new renovation', 'sparkling clean & bright',\n",
      "       'huge private backyard', 'last', 'queen & king size bedrooms',\n",
      "       'parks in area', 'features', 'listing_id'],\n",
      "      dtype='object', length=1440)\n"
     ]
    }
   ],
   "source": [
    "featuresdf = pd.DataFrame(columns = keepFeatures)\n",
    "featuresdf['features'] = features\n",
    "featuresdf['listing_id'] = pd.Series(df['listing_id'].tolist())\n",
    "print(featuresdf.shape)\n",
    "print(featuresdf.columns)"
   ]
  },
  {
   "cell_type": "code",
   "execution_count": 10,
   "metadata": {
    "collapsed": false,
    "deletable": true,
    "editable": true
   },
   "outputs": [],
   "source": [
    "#featuresdf = featuresdf.iloc[1:11,]"
   ]
  },
  {
   "cell_type": "markdown",
   "metadata": {
    "deletable": true,
    "editable": true
   },
   "source": [
    "** This part puts 1 for the features that exist for that listing **"
   ]
  },
  {
   "cell_type": "code",
   "execution_count": 11,
   "metadata": {
    "collapsed": false,
    "deletable": true,
    "editable": true
   },
   "outputs": [],
   "source": [
    "featuresdfc = featuresdf.copy()\n",
    "\n",
    "for index, row in featuresdf.iterrows():\n",
    "    f = list(row[-2])\n",
    "    for f1 in f:\n",
    "        featuresdfc.loc[index, f] = 1"
   ]
  },
  {
   "cell_type": "code",
   "execution_count": null,
   "metadata": {
    "collapsed": true,
    "deletable": true,
    "editable": true
   },
   "outputs": [],
   "source": [
    "featuresdfc.to_csv(r\"C:/Users/sandh/Dropbox/FRM/Bootcamp/Projects/Project 3/twosigma/train.json/featuresdf.csv\")\n",
    "featuresdfc.to_json(r\"C:/Users/sandh/Dropbox/FRM/Bootcamp/Projects/Project 3/twosigma/train.json/featuresdf.json\")"
   ]
  },
  {
   "cell_type": "code",
   "execution_count": null,
   "metadata": {
    "collapsed": false,
    "deletable": true,
    "editable": true
   },
   "outputs": [],
   "source": [
    "df_sub = df[['listing_id', 'bathrooms', 'bedrooms', 'building_id', 'created', 'description',\n",
    "       'display_address', 'interest_level', 'latitude',\n",
    "       'longitude', 'manager_id', 'photos', 'price',\n",
    "       'street_address']]"
   ]
  },
  {
   "cell_type": "code",
   "execution_count": 29,
   "metadata": {
    "collapsed": false,
    "deletable": true,
    "editable": true
   },
   "outputs": [],
   "source": [
    "df_sub = pd.merge(df_sub, featuresdfc, on = 'listing_id', how='inner')\n",
    "df_sub.to_csv(r\"C:/Users/sandh/Dropbox/FRM/Bootcamp/Projects/Project 3/twosigma/train.json/features_split.csv\")\n",
    "df_sub.to_json(r\"C:/Users/sandh/Dropbox/FRM/Bootcamp/Projects/Project 3/twosigma/train.json/features_split.json\")"
   ]
  },
  {
   "cell_type": "markdown",
   "metadata": {
    "deletable": true,
    "editable": true
   },
   "source": []
  },
  {
   "cell_type": "code",
   "execution_count": null,
   "metadata": {
    "collapsed": false,
    "deletable": true,
    "editable": true
   },
   "outputs": [],
   "source": []
  },
  {
   "cell_type": "code",
   "execution_count": null,
   "metadata": {
    "collapsed": false,
    "deletable": true,
    "editable": true
   },
   "outputs": [],
   "source": []
  },
  {
   "cell_type": "markdown",
   "metadata": {
    "collapsed": false,
    "deletable": true,
    "editable": true
   },
   "source": [
    "# Fixing the rows issue by merging the data frames properly"
   ]
  },
  {
   "cell_type": "code",
   "execution_count": 3,
   "metadata": {
    "collapsed": false,
    "deletable": true,
    "editable": true
   },
   "outputs": [],
   "source": [
    "dir = r\"C:/Users/sandh/Dropbox/FRM/Bootcamp/Projects/Project 3/twosigma/\"\n",
    "train = r\"C:/Users/sandh/Dropbox/FRM/Bootcamp/Projects/Project 3/twosigma/train.json/train.json\"\n",
    "test = r\"C:/Users/sandh/Dropbox/FRM/Bootcamp/Projects/Project 3/twosigma/train.json/test.json\"\n",
    "features_only = r\"C:/Users/sandh/Dropbox/FRM/Bootcamp/Projects/Project 3/twosigma/train.json/featuresdf.csv\"\n",
    "train_f_l = r\"C:/Users/sandh/Dropbox/FRM/Bootcamp/Projects/Project 3/twosigma/train.json/features_f_l.csv\"\n",
    "loc = r\"C:/Users/sandh/Dropbox/FRM/Bootcamp/Projects/Project 3/twosigma/train.json/LocationClusters.csv\"\n",
    "\n",
    "features_only_df = pd.read_csv(features_only, encoding = \"ISO-8859-1\")\n",
    "train_df = pd.read_json(train)\n",
    "loc_df = pd.read_csv(loc)"
   ]
  },
  {
   "cell_type": "code",
   "execution_count": 4,
   "metadata": {
    "collapsed": false,
    "deletable": true,
    "editable": true
   },
   "outputs": [],
   "source": [
    "f_col = features_only_df.columns\n",
    "t_col = train_df.columns\n",
    "loc_l = loc_df.columns"
   ]
  },
  {
   "cell_type": "code",
   "execution_count": 5,
   "metadata": {
    "collapsed": false,
    "deletable": true,
    "editable": true
   },
   "outputs": [],
   "source": [
    "f_col = [f for f in f_col if f not in t_col]\n",
    "f_col.append(\"listing_id\")\n",
    "features_only_df = features_only_df[f_col]\n",
    "\n",
    "loc_l = [f for f in loc_l if f not in t_col]\n",
    "loc_l.append('listing_id')\n",
    "loc_df = loc_df[loc_l]"
   ]
  },
  {
   "cell_type": "code",
   "execution_count": 6,
   "metadata": {
    "collapsed": false,
    "deletable": true,
    "editable": true
   },
   "outputs": [],
   "source": [
    "df = pd.merge(features_only_df, train_df, on = 'listing_id', how='left')\n",
    "df = pd.merge(df, loc_df, on = 'listing_id', how='left')"
   ]
  },
  {
   "cell_type": "code",
   "execution_count": 7,
   "metadata": {
    "collapsed": true,
    "deletable": true,
    "editable": true
   },
   "outputs": [],
   "source": [
    "df.to_json(train_f_l)"
   ]
  },
  {
   "cell_type": "code",
   "execution_count": null,
   "metadata": {
    "collapsed": true,
    "deletable": true,
    "editable": true
   },
   "outputs": [],
   "source": []
  }
 ],
 "metadata": {
  "kernelspec": {
   "display_name": "Python 2",
   "language": "python",
   "name": "python2"
  },
  "language_info": {
   "codemirror_mode": {
    "name": "ipython",
    "version": 2
   },
   "file_extension": ".py",
   "mimetype": "text/x-python",
   "name": "python",
   "nbconvert_exporter": "python",
   "pygments_lexer": "ipython2",
   "version": "2.7.12"
  }
 },
 "nbformat": 4,
 "nbformat_minor": 0
}
