{
 "cells": [
  {
   "cell_type": "code",
   "execution_count": 1,
   "metadata": {
    "collapsed": true,
    "deletable": true,
    "editable": true
   },
   "outputs": [],
   "source": [
    "import pandas as pd\n",
    "import numpy as np\n",
    "import json\n",
    "import matplotlib.pyplot as plt\n",
    "import re\n",
    "%matplotlib inline"
   ]
  },
  {
   "cell_type": "markdown",
   "metadata": {
    "deletable": true,
    "editable": true
   },
   "source": [
    "Get data and convert it into a pandas dataframe"
   ]
  },
  {
   "cell_type": "code",
   "execution_count": 2,
   "metadata": {
    "collapsed": true,
    "deletable": true,
    "editable": true
   },
   "outputs": [],
   "source": [
    "dir = r\"C:/Users/sandh/Dropbox/FRM/Bootcamp/Projects/Project 3/twosigma/\"\n",
    "train = r\"C:/Users/sandh/Dropbox/FRM/Bootcamp/Projects/Project 3/twosigma/train.json/train.json\"\n",
    "test = r\"C:/Users/sandh/Dropbox/FRM/Bootcamp/Projects/Project 3/twosigma/train.json/test.json\"\n",
    "\n",
    "\n",
    "data_file = open(train, 'r')\n",
    "data = json.load(data_file)\n",
    "data_file.close()\n",
    "\n",
    "df = pd.DataFrame(data)"
   ]
  },
  {
   "cell_type": "code",
   "execution_count": 3,
   "metadata": {
    "collapsed": false,
    "deletable": true,
    "editable": true
   },
   "outputs": [
    {
     "name": "stdout",
     "output_type": "stream",
     "text": [
      "Index(['bathrooms', 'bedrooms', 'building_id', 'created', 'description',\n",
      "       'display_address', 'features', 'interest_level', 'latitude',\n",
      "       'listing_id', 'longitude', 'manager_id', 'photos', 'price',\n",
      "       'street_address'],\n",
      "      dtype='object')\n"
     ]
    }
   ],
   "source": [
    "print(df.columns)"
   ]
  },
  {
   "cell_type": "markdown",
   "metadata": {
    "deletable": true,
    "editable": true
   },
   "source": [
    "Get the features column. Remove - and double \\*. Then use \\* to split the features and combine all of them into a list. Convert it into a series at the end."
   ]
  },
  {
   "cell_type": "code",
   "execution_count": 4,
   "metadata": {
    "collapsed": false,
    "deletable": true,
    "editable": true
   },
   "outputs": [],
   "source": [
    "features = df['features'].tolist()\n",
    "features_list = []\n",
    "for feature in features:\n",
    "    temp = []\n",
    "    if feature != []:\n",
    "        for f in feature:\n",
    "            f = f.lower()\n",
    "            f = re.sub(\"[-]\", \"\", f)\n",
    "            if ' * ' in f:    \n",
    "                f = f.split(' * ')\n",
    "                for element in f:\n",
    "                    element = re.sub(\"[**]\", \"\", element)\n",
    "                    temp.append(element.strip())\n",
    "            else:\n",
    "                temp.append(f.strip())    \n",
    "    features_list.append(temp)\n",
    "features = pd.Series(features_list)"
   ]
  },
  {
   "cell_type": "code",
   "execution_count": 5,
   "metadata": {
    "collapsed": false,
    "deletable": true,
    "editable": true
   },
   "outputs": [
    {
     "name": "stdout",
     "output_type": "stream",
     "text": [
      "(49352,)\n"
     ]
    }
   ],
   "source": [
    "print(features.shape)"
   ]
  },
  {
   "cell_type": "code",
   "execution_count": 6,
   "metadata": {
    "collapsed": false,
    "deletable": true,
    "editable": true
   },
   "outputs": [],
   "source": [
    "flattenFeatures = pd.Series([l.strip() for subL in features_list for l in subL])"
   ]
  },
  {
   "cell_type": "code",
   "execution_count": 7,
   "metadata": {
    "collapsed": false,
    "deletable": true,
    "editable": true,
    "scrolled": false
   },
   "outputs": [
    {
     "data": {
      "text/plain": [
       "1438"
      ]
     },
     "execution_count": 7,
     "metadata": {},
     "output_type": "execute_result"
    }
   ],
   "source": [
    "uniqueFeatures = flattenFeatures.drop_duplicates()\n",
    "len(uniqueFeatures)"
   ]
  },
  {
   "cell_type": "code",
   "execution_count": 8,
   "metadata": {
    "collapsed": false,
    "deletable": true,
    "editable": true,
    "scrolled": true
   },
   "outputs": [],
   "source": [
    "g = flattenFeatures.value_counts()\n",
    "keepFeatures = g.index"
   ]
  },
  {
   "cell_type": "code",
   "execution_count": 9,
   "metadata": {
    "collapsed": false,
    "deletable": true,
    "editable": true
   },
   "outputs": [
    {
     "name": "stdout",
     "output_type": "stream",
     "text": [
      "(49352, 1440)\n",
      "Index(['elevator', 'hardwood floors', 'cats allowed', 'dogs allowed',\n",
      "       'doorman', 'dishwasher', 'laundry in building', 'no fee',\n",
      "       'fitness center', 'prewar',\n",
      "       ...\n",
      "       'bluetooth system', 'near columbia u', '3br', 'custom painted murals',\n",
      "       'featuring a sophisticated precor® online profile system that tracks your personal fitness goals',\n",
      "       'high ceilings.', 'a true top luxury hirise', 'air conditioned',\n",
      "       'features', 'listing_id'],\n",
      "      dtype='object', length=1440)\n"
     ]
    }
   ],
   "source": [
    "featuresdf = pd.DataFrame(columns = keepFeatures)\n",
    "featuresdf['features'] = features\n",
    "featuresdf['listing_id'] = pd.Series(df['listing_id'].tolist())\n",
    "print(featuresdf.shape)\n",
    "print(featuresdf.columns)"
   ]
  },
  {
   "cell_type": "code",
   "execution_count": 10,
   "metadata": {
    "collapsed": false,
    "deletable": true,
    "editable": true
   },
   "outputs": [],
   "source": [
    "#featuresdf = featuresdf.iloc[1:11,] "
   ]
  },
  {
   "cell_type": "markdown",
   "metadata": {
    "deletable": true,
    "editable": true
   },
   "source": [
    "** This part puts 1 for the features that exist for that listing **"
   ]
  },
  {
   "cell_type": "code",
   "execution_count": null,
   "metadata": {
    "collapsed": false,
    "deletable": true,
    "editable": true
   },
   "outputs": [],
   "source": [
    "featuresdfc = featuresdf.copy()\n",
    "\n",
    "for index, row in featuresdf.iterrows():\n",
    "    f = list(row[-2])\n",
    "    for f1 in f:\n",
    "        featuresdfc.loc[index, f] = 1"
   ]
  },
  {
   "cell_type": "code",
   "execution_count": null,
   "metadata": {
    "collapsed": false,
    "deletable": true,
    "editable": true,
    "scrolled": true
   },
   "outputs": [],
   "source": [
    "df_sub = df[['listing_id','bathrooms', 'bedrooms', 'building_id', 'created', 'description',\n",
    "       'display_address', 'interest_level', 'latitude',\n",
    "       'listing_id', 'longitude', 'manager_id', 'photos', 'price',\n",
    "       'street_address']]"
   ]
  },
  {
   "cell_type": "code",
   "execution_count": null,
   "metadata": {
    "collapsed": false,
    "deletable": true,
    "editable": true
   },
   "outputs": [],
   "source": [
    "featuresdfc.to_csv(r\"C:/Users/sandh/Dropbox/FRM/Bootcamp/Projects/Project 3/twosigma/train.json/featuresdf.csv\")"
   ]
  },
  {
   "cell_type": "code",
   "execution_count": null,
   "metadata": {
    "collapsed": false,
    "deletable": true,
    "editable": true
   },
   "outputs": [],
   "source": [
    "pd.merge(df_sub, featuresdfc, on = 'listing_id')\n",
    "df_sub.to_csv(r\"C:/Users/sandh/Dropbox/FRM/Bootcamp/Projects/Project 3/twosigma/train.json/features_split.csv\")"
   ]
  },
  {
   "cell_type": "code",
   "execution_count": null,
   "metadata": {
    "collapsed": false,
    "deletable": true,
    "editable": true
   },
   "outputs": [],
   "source": [
    "managers_interest = df[['manager_id', 'interest_level']]\n",
    "managers = df['manager_id']"
   ]
  },
  {
   "cell_type": "code",
   "execution_count": null,
   "metadata": {
    "collapsed": false,
    "deletable": true,
    "editable": true
   },
   "outputs": [],
   "source": [
    "managers_interest_group = managers_interest.groupby(by = ['manager_id','interest_level'])"
   ]
  },
  {
   "cell_type": "code",
   "execution_count": null,
   "metadata": {
    "collapsed": false,
    "deletable": true,
    "editable": true
   },
   "outputs": [],
   "source": [
    "(managers.drop_duplicates()).shape"
   ]
  },
  {
   "cell_type": "code",
   "execution_count": null,
   "metadata": {
    "collapsed": false,
    "deletable": true,
    "editable": true
   },
   "outputs": [],
   "source": [
    "managers_counts = managers.value_counts()\n",
    "managers_counts"
   ]
  },
  {
   "cell_type": "code",
   "execution_count": null,
   "metadata": {
    "collapsed": false,
    "deletable": true,
    "editable": true
   },
   "outputs": [],
   "source": [
    "managers_counts.plot()"
   ]
  },
  {
   "cell_type": "code",
   "execution_count": null,
   "metadata": {
    "collapsed": true
   },
   "outputs": [],
   "source": []
  }
 ],
 "metadata": {
  "kernelspec": {
   "display_name": "Python 3",
   "language": "python",
   "name": "python3"
  },
  "language_info": {
   "codemirror_mode": {
    "name": "ipython",
    "version": 3
   },
   "file_extension": ".py",
   "mimetype": "text/x-python",
   "name": "python",
   "nbconvert_exporter": "python",
   "pygments_lexer": "ipython3",
   "version": "3.5.3"
  }
 },
 "nbformat": 4,
 "nbformat_minor": 2
}
