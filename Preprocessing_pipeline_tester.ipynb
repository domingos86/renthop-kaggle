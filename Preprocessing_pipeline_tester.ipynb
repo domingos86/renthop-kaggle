{
 "cells": [
  {
   "cell_type": "code",
   "execution_count": 1,
   "metadata": {
    "collapsed": true,
    "deletable": true,
    "editable": true
   },
   "outputs": [],
   "source": [
    "import pandas as pd\n",
    "import numpy as np\n",
    "from sklearn import preprocessing"
   ]
  },
  {
   "cell_type": "code",
   "execution_count": null,
   "metadata": {
    "collapsed": false,
    "deletable": true,
    "editable": true,
    "scrolled": true
   },
   "outputs": [],
   "source": [
    "from renthop.preprocessing import loaders"
   ]
  },
  {
   "cell_type": "code",
   "execution_count": 9,
   "metadata": {
    "collapsed": false,
    "deletable": true,
    "editable": true
   },
   "outputs": [
    {
     "data": {
      "text/plain": [
       "<module 'renthop_preprocessing.loaders' from 'renthop_preprocessing/loaders.py'>"
      ]
     },
     "execution_count": 9,
     "metadata": {},
     "output_type": "execute_result"
    }
   ],
   "source": [
    "reload(loaders)"
   ]
  },
  {
   "cell_type": "code",
   "execution_count": 6,
   "metadata": {
    "collapsed": false,
    "deletable": true,
    "editable": true
   },
   "outputs": [
    {
     "data": {
      "text/plain": [
       "<renthop_preprocessing.loaders.Preprocessor at 0x7ff6b890cf90>"
      ]
     },
     "execution_count": 6,
     "metadata": {},
     "output_type": "execute_result"
    }
   ],
   "source": [
    "json_loader = loaders.JSONLoader()\n",
    "preprocessor = loaders.Preprocessor()\n",
    "preprocessor.with_pipeline('main').set_loader(json_loader)\n",
    "preprocessor.add_operation(loaders.DateTimeExtractor()).add_operation(loaders.NewSimplePredictors())\n",
    "preprocessor.add_operation(loaders.LogTransform(['price_per_bedroom', 'price', 'price_per_bathroom']))\n",
    "preprocessor.add_operation(loaders.Selector(['listing_id', 'bathrooms', u'bedrooms', 'latitude', 'longitude', 'price',\n",
    "                                             'month', 'day_of_month', 'hour', 'day_of_week', 'price_per_bathroom',\n",
    "                                             'price_per_bedroom', 'num_features', 'features_len', 'num_photos']))\n",
    "merger = loaders.PandasColumnMerger(['main', 'features', 'sentiment'], on = 'listing_id')\n",
    "preprocessor.set_consumer(merger)\n",
    "preprocessor.with_pipeline('features').set_loader(loaders.CSVLoader('data/features_train.csv', 'data/features_test.csv'))\n",
    "preprocessor.set_consumer(merger)\n",
    "preprocessor.with_pipeline('sentiment').set_loader(loaders.CSVLoader('data/sentiment_train.csv', 'data/sentiment_test.csv'))\n",
    "preprocessor.set_consumer(merger)\n",
    "preprocessor.with_pipeline('merged').set_loader(merger).add_operation(loaders.ColumnDrop('listing_id'))\n",
    "preprocessor.add_operation(loaders.ToNdarray()).add_operation(preprocessing.StandardScaler())\n",
    "preprocessor.with_pipeline('response').set_loader(json_loader.select_loader('interest_level'))\n",
    "preprocessor.add_operation(loaders.Dummifier(output_cols = ['high', 'medium', 'low'])).add_operation(loaders.ToNdarray())"
   ]
  },
  {
   "cell_type": "code",
   "execution_count": 7,
   "metadata": {
    "collapsed": false,
    "deletable": true,
    "editable": true
   },
   "outputs": [],
   "source": [
    "data = preprocessor.load_and_transform()\n",
    "X = data['merged']\n",
    "y = data['response']"
   ]
  },
  {
   "cell_type": "code",
   "execution_count": 8,
   "metadata": {
    "collapsed": false,
    "deletable": true,
    "editable": true
   },
   "outputs": [
    {
     "name": "stdout",
     "output_type": "stream",
     "text": [
      "(49352, 80) (49352, 3)\n"
     ]
    }
   ],
   "source": [
    "print X.shape, y.shape"
   ]
  },
  {
   "cell_type": "code",
   "execution_count": 9,
   "metadata": {
    "collapsed": false,
    "deletable": true,
    "editable": true
   },
   "outputs": [
    {
     "data": {
      "text/plain": [
       "array([[ 0.57401627,  1.3079381 , -0.90071619,  0.94608301, -0.21414523,\n",
       "         1.1949383 ,  1.06188548,  0.63054681,  0.60392284, -0.67816544,\n",
       "        -1.48334253, -1.38362455, -1.30596185, -0.16709934, -0.21430261,\n",
       "        -0.02987223, -0.11925235, -0.12754554, -0.05178646, -0.03795678,\n",
       "        -0.22519593, -0.05428384, -0.60709953, -0.04004138, -0.05237322,\n",
       "        -0.10478552, -0.25897929, -1.06695545, -0.04895628, -0.05409577,\n",
       "        -0.21107602, -0.05178646, -0.13964567, -0.06200286, -0.04054589,\n",
       "        -0.12116054, -0.75996554, -0.14671995, -0.05352768, -0.52045923,\n",
       "        -0.04321621, -0.06583799, -0.34155843, -0.11793463, -0.86048996,\n",
       "        -0.25906837, -0.0515894 , -0.04957621, -0.17023888, -0.08078583,\n",
       "        -0.02918483, -0.30976784, -0.07319575, -0.99809718, -0.44331497,\n",
       "        -0.96856022, -0.02701825, -0.02987223, -0.13690613, -0.4111729 ,\n",
       "        -0.11205543, -0.23620595, -0.8545838 , -0.0608395 , -0.04345089,\n",
       "        -0.12012326, -0.90233684, -0.12966208, -0.07092277, -0.95925063,\n",
       "        -0.66670281,  0.55482465, -0.43404594, -0.52624893, -0.52700406,\n",
       "        -0.58083385,  1.02896273,  0.82598925, -0.82488161,  0.2319773 ],\n",
       "       [-0.42316264,  0.41108283,  1.07824266,  0.17896253,  1.17155826,\n",
       "         1.1949383 , -0.3872734 ,  1.68414712,  1.72450936,  1.69355452,\n",
       "         0.52956051, -0.10921041, -0.25363341,  1.48477089, -0.21430261,\n",
       "        -0.02987223, -0.11925235, -0.12754554, -0.05178646, -0.03795678,\n",
       "        -0.22519593, -0.05428384,  1.64717603, -0.04004138, -0.05237322,\n",
       "        -0.10478552, -0.25897929,  0.93724614, -0.04895628, -0.05409577,\n",
       "        -0.21107602, -0.05178646, -0.13964567, -0.06200286, -0.04054589,\n",
       "        -0.12116054, -0.75996554, -0.14671995, -0.05352768, -0.52045923,\n",
       "        -0.04321621, -0.06583799, -0.34155843, -0.11793463,  1.16212869,\n",
       "        -0.25906837, -0.0515894 , -0.04957621, -0.17023888, -0.08078583,\n",
       "        -0.02918483, -0.30976784, -0.07319575, -0.99809718, -0.44331497,\n",
       "        -0.96856022, -0.02701825, -0.02987223, -0.13690613, -0.4111729 ,\n",
       "        -0.11205543, -0.23620595, -0.8545838 , -0.0608395 , -0.04345089,\n",
       "        -0.12012326,  1.10823369, -0.12966208, -0.07092277,  1.04248035,\n",
       "        -0.66670281, -0.99839479, -0.43404594, -0.52624893, -1.00296164,\n",
       "        -0.58083385, -0.77592307, -1.00444472, -0.82488161, -1.36197269],\n",
       "       [-0.42316264, -0.48577237, -0.30111724, -0.93374908, -0.33264437,\n",
       "        -1.23096919,  0.2165428 , -0.43365383,  1.72450936, -0.18296306,\n",
       "        -0.02761647, -0.36409324,  0.14098974,  0.65883577, -0.21430261,\n",
       "        -0.02987223, -0.11925235, -0.12754554, -0.05178646, -0.03795678,\n",
       "        -0.22519593, -0.05428384, -0.60709953, -0.04004138, -0.05237322,\n",
       "        -0.10478552, -0.25897929, -1.06695545, -0.04895628, -0.05409577,\n",
       "        -0.21107602, -0.05178646, -0.13964567, -0.06200286, -0.04054589,\n",
       "        -0.12116054, -0.75996554, -0.14671995, -0.05352768, -0.52045923,\n",
       "        -0.04321621, -0.06583799, -0.34155843, -0.11793463, -0.86048996,\n",
       "        -0.25906837, -0.0515894 , -0.04957621, -0.17023888, -0.08078583,\n",
       "        -0.02918483, -0.30976784, -0.07319575,  1.00190663, -0.44331497,\n",
       "         1.03246045, -0.02701825, -0.02987223, -0.13690613, -0.4111729 ,\n",
       "        -0.11205543, -0.23620595,  1.17016029, -0.0608395 , -0.04345089,\n",
       "        -0.12012326,  1.10823369, -0.12966208, -0.07092277,  1.04248035,\n",
       "        -0.66670281,  0.03708484, -0.43404594,  1.11824143, -0.52700406,\n",
       "        -0.58083385, -0.77592307, -0.08922774, -0.02801439,  0.2319773 ],\n",
       "       [-0.42316264, -0.48577237,  0.07144357,  0.14728132, -0.011518  ,\n",
       "        -1.23096919,  0.33730605, -0.69064403, -1.63725019,  0.21761981,\n",
       "         0.28773695, -0.87385893, -0.77979761, -0.71772277, -0.21430261,\n",
       "        -0.02987223, -0.11925235, -0.12754554, -0.05178646, -0.03795678,\n",
       "        -0.22519593, -0.05428384, -0.60709953, -0.04004138, -0.05237322,\n",
       "        -0.10478552, -0.25897929, -1.06695545, -0.04895628, -0.05409577,\n",
       "        -0.21107602, -0.05178646, -0.13964567, -0.06200286, -0.04054589,\n",
       "        -0.12116054,  1.31584907, -0.14671995, -0.05352768, -0.52045923,\n",
       "        -0.04321621, -0.06583799, -0.34155843, -0.11793463, -0.86048996,\n",
       "        -0.25906837, -0.0515894 , -0.04957621, -0.17023888, -0.08078583,\n",
       "        -0.02918483, -0.30976784, -0.07319575,  1.00190663, -0.44331497,\n",
       "        -0.96856022, -0.02701825, -0.02987223, -0.13690613, -0.4111729 ,\n",
       "        -0.11205543, -0.23620595, -0.8545838 , -0.0608395 , -0.04345089,\n",
       "        -0.12012326, -0.90233684, -0.12966208, -0.07092277, -0.95925063,\n",
       "         0.68167502, -0.99839479, -0.43404594, -0.52624893, -0.52700406,\n",
       "        -0.58083385, -0.77592307, -1.00444472, -0.02801439, -0.56499767],\n",
       "       [-0.42316264,  2.20479321,  1.80369139,  0.73036057,  0.04079345,\n",
       "        -1.23096919,  1.54493845, -0.88681531,  0.04362958,  0.28287673,\n",
       "        -1.73905385, -1.12874174, -1.0428797 , -0.71772277, -0.21430261,\n",
       "        -0.02987223, -0.11925235, -0.12754554, -0.05178646, -0.03795678,\n",
       "        -0.22519593, -0.05428384, -0.60709953, -0.04004138, -0.05237322,\n",
       "        -0.10478552, -0.25897929, -1.06695545, -0.04895628, -0.05409577,\n",
       "        -0.21107602, -0.05178646, -0.13964567, -0.06200286, -0.04054589,\n",
       "        -0.12116054, -0.75996554, -0.14671995, -0.05352768,  1.9213798 ,\n",
       "        -0.04321621, -0.06583799, -0.34155843, -0.11793463, -0.86048996,\n",
       "        -0.25906837, -0.0515894 , -0.04957621, -0.17023888, -0.08078583,\n",
       "        -0.02918483, -0.30976784, -0.07319575, -0.99809718, -0.44331497,\n",
       "        -0.96856022, -0.02701825, -0.02987223, -0.13690613, -0.4111729 ,\n",
       "        -0.11205543, -0.23620595, -0.8545838 , -0.0608395 , -0.04345089,\n",
       "        -0.12012326, -0.90233684, -0.12966208, -0.07092277, -0.95925063,\n",
       "        -0.66670281,  0.03708484, -0.43404594, -0.52624893, -0.52700406,\n",
       "        -0.58083385,  0.12651977, -1.00444472,  0.76885289,  0.03273356]], dtype=float32)"
      ]
     },
     "execution_count": 9,
     "metadata": {},
     "output_type": "execute_result"
    }
   ],
   "source": [
    "X[:5]"
   ]
  },
  {
   "cell_type": "markdown",
   "metadata": {
    "collapsed": true,
    "deletable": true,
    "editable": true
   },
   "source": [
    "Below are the first few tests and conversion from features to a dummy `.csv` performed."
   ]
  },
  {
   "cell_type": "code",
   "execution_count": 3,
   "metadata": {
    "collapsed": false,
    "deletable": true,
    "editable": true
   },
   "outputs": [
    {
     "data": {
      "text/plain": [
       "<renthop_preprocessing.loaders.Preprocessor at 0x7f0e3c76e250>"
      ]
     },
     "execution_count": 3,
     "metadata": {},
     "output_type": "execute_result"
    }
   ],
   "source": [
    "json_loader = loaders.JSONLoader()\n",
    "preprocessor = loaders.Preprocessor()\n",
    "preprocessor.with_pipeline('main').set_loader(json_loader)\n",
    "preprocessor.add_operation(loaders.DateTimeExtractor()).add_operation(loaders.NewSimplePredictors())\n",
    "preprocessor.add_operation(loaders.LogTransform(['price_per_bedroom', 'price', 'price_per_bathroom']))\n",
    "preprocessor.with_pipeline('features').set_loader(json_loader.select_loader('features'))\\\n",
    "    .add_operation(loaders.FeaturesDummifier())"
   ]
  },
  {
   "cell_type": "code",
   "execution_count": 4,
   "metadata": {
    "collapsed": false,
    "deletable": true,
    "editable": true
   },
   "outputs": [],
   "source": [
    "data = preprocessor.load_and_transform()"
   ]
  },
  {
   "cell_type": "code",
   "execution_count": 25,
   "metadata": {
    "collapsed": false,
    "deletable": true,
    "editable": true
   },
   "outputs": [],
   "source": [
    "data['main']['listing_id'] = data['main']['listing_id'].astype('int')\n",
    "columns = ['listing_id']\n",
    "columns.extend(data['features'].columns)\n",
    "features = pd.DataFrame(np.hstack([data['main'][['listing_id']], data['features']]), columns = columns)\n",
    "for col in features.columns:\n",
    "    features[col] = features[col].astype('int')"
   ]
  },
  {
   "cell_type": "code",
   "execution_count": 27,
   "metadata": {
    "collapsed": true,
    "deletable": true,
    "editable": true
   },
   "outputs": [],
   "source": [
    "features.to_csv('data/features_train.csv', index = False)"
   ]
  },
  {
   "cell_type": "code",
   "execution_count": 26,
   "metadata": {
    "collapsed": false,
    "deletable": true,
    "editable": true
   },
   "outputs": [
    {
     "data": {
      "text/html": [
       "<div>\n",
       "<table border=\"1\" class=\"dataframe\">\n",
       "  <thead>\n",
       "    <tr style=\"text-align: right;\">\n",
       "      <th></th>\n",
       "      <th>listing_id</th>\n",
       "      <th>feature_exclusive</th>\n",
       "      <th>feature_virtual_doorman</th>\n",
       "      <th>feature_furnished</th>\n",
       "      <th>feature_lowrise</th>\n",
       "      <th>feature_bike_room</th>\n",
       "      <th>feature_no_pets</th>\n",
       "      <th>feature_terrace</th>\n",
       "      <th>feature_valet</th>\n",
       "      <th>feature_fitness_center</th>\n",
       "      <th>...</th>\n",
       "      <th>feature_super</th>\n",
       "      <th>feature_new_construction</th>\n",
       "      <th>feature_dishwasher</th>\n",
       "      <th>feature_light</th>\n",
       "      <th>feature_central_a/c</th>\n",
       "      <th>feature_reduced_fee</th>\n",
       "      <th>feature_dogs_allowed</th>\n",
       "      <th>feature_high_ceilings</th>\n",
       "      <th>feature_green_building</th>\n",
       "      <th>feature_cats_allowed</th>\n",
       "    </tr>\n",
       "  </thead>\n",
       "  <tbody>\n",
       "    <tr>\n",
       "      <th>0</th>\n",
       "      <td>7211212</td>\n",
       "      <td>0</td>\n",
       "      <td>0</td>\n",
       "      <td>0</td>\n",
       "      <td>0</td>\n",
       "      <td>0</td>\n",
       "      <td>0</td>\n",
       "      <td>0</td>\n",
       "      <td>0</td>\n",
       "      <td>0</td>\n",
       "      <td>...</td>\n",
       "      <td>0</td>\n",
       "      <td>0</td>\n",
       "      <td>0</td>\n",
       "      <td>0</td>\n",
       "      <td>0</td>\n",
       "      <td>0</td>\n",
       "      <td>0</td>\n",
       "      <td>0</td>\n",
       "      <td>0</td>\n",
       "      <td>0</td>\n",
       "    </tr>\n",
       "    <tr>\n",
       "      <th>1</th>\n",
       "      <td>7150865</td>\n",
       "      <td>0</td>\n",
       "      <td>0</td>\n",
       "      <td>0</td>\n",
       "      <td>0</td>\n",
       "      <td>0</td>\n",
       "      <td>0</td>\n",
       "      <td>0</td>\n",
       "      <td>0</td>\n",
       "      <td>1</td>\n",
       "      <td>...</td>\n",
       "      <td>0</td>\n",
       "      <td>0</td>\n",
       "      <td>0</td>\n",
       "      <td>0</td>\n",
       "      <td>0</td>\n",
       "      <td>0</td>\n",
       "      <td>1</td>\n",
       "      <td>0</td>\n",
       "      <td>0</td>\n",
       "      <td>1</td>\n",
       "    </tr>\n",
       "    <tr>\n",
       "      <th>2</th>\n",
       "      <td>6887163</td>\n",
       "      <td>0</td>\n",
       "      <td>0</td>\n",
       "      <td>0</td>\n",
       "      <td>0</td>\n",
       "      <td>0</td>\n",
       "      <td>0</td>\n",
       "      <td>0</td>\n",
       "      <td>0</td>\n",
       "      <td>0</td>\n",
       "      <td>...</td>\n",
       "      <td>0</td>\n",
       "      <td>0</td>\n",
       "      <td>1</td>\n",
       "      <td>0</td>\n",
       "      <td>0</td>\n",
       "      <td>0</td>\n",
       "      <td>1</td>\n",
       "      <td>0</td>\n",
       "      <td>0</td>\n",
       "      <td>1</td>\n",
       "    </tr>\n",
       "    <tr>\n",
       "      <th>3</th>\n",
       "      <td>6888711</td>\n",
       "      <td>0</td>\n",
       "      <td>0</td>\n",
       "      <td>0</td>\n",
       "      <td>0</td>\n",
       "      <td>0</td>\n",
       "      <td>0</td>\n",
       "      <td>0</td>\n",
       "      <td>0</td>\n",
       "      <td>0</td>\n",
       "      <td>...</td>\n",
       "      <td>0</td>\n",
       "      <td>0</td>\n",
       "      <td>0</td>\n",
       "      <td>0</td>\n",
       "      <td>0</td>\n",
       "      <td>0</td>\n",
       "      <td>0</td>\n",
       "      <td>0</td>\n",
       "      <td>0</td>\n",
       "      <td>0</td>\n",
       "    </tr>\n",
       "    <tr>\n",
       "      <th>4</th>\n",
       "      <td>6934781</td>\n",
       "      <td>0</td>\n",
       "      <td>0</td>\n",
       "      <td>0</td>\n",
       "      <td>0</td>\n",
       "      <td>0</td>\n",
       "      <td>0</td>\n",
       "      <td>0</td>\n",
       "      <td>0</td>\n",
       "      <td>0</td>\n",
       "      <td>...</td>\n",
       "      <td>0</td>\n",
       "      <td>0</td>\n",
       "      <td>0</td>\n",
       "      <td>0</td>\n",
       "      <td>0</td>\n",
       "      <td>0</td>\n",
       "      <td>0</td>\n",
       "      <td>0</td>\n",
       "      <td>0</td>\n",
       "      <td>0</td>\n",
       "    </tr>\n",
       "  </tbody>\n",
       "</table>\n",
       "<p>5 rows × 57 columns</p>\n",
       "</div>"
      ],
      "text/plain": [
       "   listing_id  feature_exclusive  feature_virtual_doorman  feature_furnished  \\\n",
       "0     7211212                  0                        0                  0   \n",
       "1     7150865                  0                        0                  0   \n",
       "2     6887163                  0                        0                  0   \n",
       "3     6888711                  0                        0                  0   \n",
       "4     6934781                  0                        0                  0   \n",
       "\n",
       "   feature_lowrise  feature_bike_room  feature_no_pets  feature_terrace  \\\n",
       "0                0                  0                0                0   \n",
       "1                0                  0                0                0   \n",
       "2                0                  0                0                0   \n",
       "3                0                  0                0                0   \n",
       "4                0                  0                0                0   \n",
       "\n",
       "   feature_valet  feature_fitness_center          ...           feature_super  \\\n",
       "0              0                       0          ...                       0   \n",
       "1              0                       1          ...                       0   \n",
       "2              0                       0          ...                       0   \n",
       "3              0                       0          ...                       0   \n",
       "4              0                       0          ...                       0   \n",
       "\n",
       "   feature_new_construction  feature_dishwasher  feature_light  \\\n",
       "0                         0                   0              0   \n",
       "1                         0                   0              0   \n",
       "2                         0                   1              0   \n",
       "3                         0                   0              0   \n",
       "4                         0                   0              0   \n",
       "\n",
       "   feature_central_a/c  feature_reduced_fee  feature_dogs_allowed  \\\n",
       "0                    0                    0                     0   \n",
       "1                    0                    0                     1   \n",
       "2                    0                    0                     1   \n",
       "3                    0                    0                     0   \n",
       "4                    0                    0                     0   \n",
       "\n",
       "   feature_high_ceilings  feature_green_building  feature_cats_allowed  \n",
       "0                      0                       0                     0  \n",
       "1                      0                       0                     1  \n",
       "2                      0                       0                     1  \n",
       "3                      0                       0                     0  \n",
       "4                      0                       0                     0  \n",
       "\n",
       "[5 rows x 57 columns]"
      ]
     },
     "execution_count": 26,
     "metadata": {},
     "output_type": "execute_result"
    }
   ],
   "source": [
    "features.head()"
   ]
  },
  {
   "cell_type": "code",
   "execution_count": 28,
   "metadata": {
    "collapsed": true,
    "deletable": true,
    "editable": true
   },
   "outputs": [],
   "source": [
    "data = preprocessor.load_and_transform(test = True)\n",
    "data['main']['listing_id'] = data['main']['listing_id'].astype('int')\n",
    "columns = ['listing_id']\n",
    "columns.extend(data['features'].columns)\n",
    "features = pd.DataFrame(np.hstack([data['main'][['listing_id']], data['features']]), columns = columns)\n",
    "for col in features.columns:\n",
    "    features[col] = features[col].astype('int')\n",
    "features.to_csv('data/features_test.csv', index = False)"
   ]
  }
 ],
 "metadata": {
  "kernelspec": {
   "display_name": "Python 2",
   "language": "python",
   "name": "python2"
  },
  "language_info": {
   "codemirror_mode": {
    "name": "ipython",
    "version": 2
   },
   "file_extension": ".py",
   "mimetype": "text/x-python",
   "name": "python",
   "nbconvert_exporter": "python",
   "pygments_lexer": "ipython2",
   "version": "2.7.12"
  }
 },
 "nbformat": 4,
 "nbformat_minor": 2
}
