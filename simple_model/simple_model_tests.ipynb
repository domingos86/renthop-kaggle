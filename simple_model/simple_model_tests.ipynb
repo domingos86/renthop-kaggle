{
 "cells": [
  {
   "cell_type": "code",
   "execution_count": 80,
   "metadata": {
    "collapsed": false,
    "deletable": true,
    "editable": true
   },
   "outputs": [],
   "source": [
    "import os\n",
    "import sys\n",
    "\n",
    "import numpy as np\n",
    "from pandas.io.json import read_json\n",
    "from sklearn.utils import shuffle\n",
    "import lasagne\n",
    "from lasagne import layers\n",
    "from lasagne.updates import nesterov_momentum\n",
    "from nolearn.lasagne import NeuralNet, TrainSplit\n",
    "import theano\n",
    "import cPickle as pickle\n",
    "\n",
    "from datetime import datetime\n",
    "import re"
   ]
  },
  {
   "cell_type": "code",
   "execution_count": 6,
   "metadata": {
    "collapsed": false,
    "deletable": true,
    "editable": true
   },
   "outputs": [],
   "source": [
    "FTRAIN = '../data/train.json'\n",
    "FTEST = '../data/test.json'"
   ]
  },
  {
   "cell_type": "code",
   "execution_count": 7,
   "metadata": {
    "collapsed": false,
    "deletable": true,
    "editable": true
   },
   "outputs": [],
   "source": [
    "df = read_json(FTRAIN)"
   ]
  },
  {
   "cell_type": "code",
   "execution_count": 8,
   "metadata": {
    "collapsed": false,
    "deletable": true,
    "editable": true
   },
   "outputs": [
    {
     "data": {
      "text/plain": [
       "Index([u'bathrooms', u'bedrooms', u'building_id', u'created', u'description',\n",
       "       u'display_address', u'features', u'interest_level', u'latitude',\n",
       "       u'listing_id', u'longitude', u'manager_id', u'photos', u'price',\n",
       "       u'street_address'],\n",
       "      dtype='object')"
      ]
     },
     "execution_count": 8,
     "metadata": {},
     "output_type": "execute_result"
    }
   ],
   "source": [
    "df.columns"
   ]
  },
  {
   "cell_type": "code",
   "execution_count": 9,
   "metadata": {
    "collapsed": false,
    "deletable": true,
    "editable": true
   },
   "outputs": [],
   "source": [
    "df = df[[u'bathrooms', u'bedrooms', u'created', u'description', u'features', u'interest_level', u'latitude',\n",
    "         u'longitude', u'photos', u'price']]"
   ]
  },
  {
   "cell_type": "code",
   "execution_count": 10,
   "metadata": {
    "collapsed": false,
    "deletable": true,
    "editable": true
   },
   "outputs": [],
   "source": [
    "df['price_per_bathroom'] = df['price']/(df['bathrooms']+1)\n",
    "df['price_per_bedroom'] = df['price']/(df['bedrooms']+1)"
   ]
  },
  {
   "cell_type": "code",
   "execution_count": 12,
   "metadata": {
    "collapsed": false,
    "deletable": true,
    "editable": true
   },
   "outputs": [
    {
     "data": {
      "text/plain": [
       "10        2016-06-24 07:54:24\n",
       "10000     2016-06-12 12:19:27\n",
       "100004    2016-04-17 03:26:41\n",
       "100007    2016-04-18 02:22:02\n",
       "100013    2016-04-28 01:32:41\n",
       "Name: created, dtype: object"
      ]
     },
     "execution_count": 12,
     "metadata": {},
     "output_type": "execute_result"
    }
   ],
   "source": [
    "df.head()['created']"
   ]
  },
  {
   "cell_type": "code",
   "execution_count": 14,
   "metadata": {
    "collapsed": false,
    "deletable": true,
    "editable": true
   },
   "outputs": [],
   "source": [
    "df['created'] = df['created'].apply(lambda x: datetime.strptime(x, '%Y-%m-%d %H:%M:%S'))"
   ]
  },
  {
   "cell_type": "code",
   "execution_count": 15,
   "metadata": {
    "collapsed": false,
    "deletable": true,
    "editable": true
   },
   "outputs": [
    {
     "data": {
      "text/plain": [
       "10       2016-06-24 07:54:24\n",
       "10000    2016-06-12 12:19:27\n",
       "100004   2016-04-17 03:26:41\n",
       "100007   2016-04-18 02:22:02\n",
       "100013   2016-04-28 01:32:41\n",
       "Name: created, dtype: datetime64[ns]"
      ]
     },
     "execution_count": 15,
     "metadata": {},
     "output_type": "execute_result"
    }
   ],
   "source": [
    "df.head()['created']"
   ]
  },
  {
   "cell_type": "code",
   "execution_count": 18,
   "metadata": {
    "collapsed": false,
    "deletable": true,
    "editable": true
   },
   "outputs": [
    {
     "data": {
      "text/plain": [
       "Timestamp('2016-06-24 07:54:24')"
      ]
     },
     "execution_count": 18,
     "metadata": {},
     "output_type": "execute_result"
    }
   ],
   "source": [
    "testcreated = df.iloc[0]['created']\n",
    "testcreated"
   ]
  },
  {
   "cell_type": "code",
   "execution_count": 33,
   "metadata": {
    "collapsed": false,
    "deletable": true,
    "editable": true
   },
   "outputs": [
    {
     "data": {
      "text/plain": [
       "4"
      ]
     },
     "execution_count": 33,
     "metadata": {},
     "output_type": "execute_result"
    }
   ],
   "source": [
    "testcreated.weekday()"
   ]
  },
  {
   "cell_type": "code",
   "execution_count": 22,
   "metadata": {
    "collapsed": false,
    "deletable": true,
    "editable": true
   },
   "outputs": [],
   "source": [
    "df['day_of_month'] = df['created'].apply(lambda x: x.day)"
   ]
  },
  {
   "cell_type": "code",
   "execution_count": 28,
   "metadata": {
    "collapsed": false,
    "deletable": true,
    "editable": true
   },
   "outputs": [],
   "source": [
    "df['hour'] = df['created'].apply(lambda x: x.hour + (x.minute + x.second / 60.0) / 60.0)"
   ]
  },
  {
   "cell_type": "code",
   "execution_count": 34,
   "metadata": {
    "collapsed": false,
    "deletable": true,
    "editable": true
   },
   "outputs": [],
   "source": [
    "df['day_of_week'] = df['created'].apply(lambda x: x.weekday())"
   ]
  },
  {
   "cell_type": "code",
   "execution_count": 35,
   "metadata": {
    "collapsed": false,
    "deletable": true,
    "editable": true
   },
   "outputs": [],
   "source": [
    "del df['created']"
   ]
  },
  {
   "cell_type": "code",
   "execution_count": 36,
   "metadata": {
    "collapsed": false,
    "deletable": true,
    "editable": true
   },
   "outputs": [
    {
     "data": {
      "text/plain": [
       "Index([         u'bathrooms',           u'bedrooms',        u'description',\n",
       "                 u'features',     u'interest_level',           u'latitude',\n",
       "                u'longitude',             u'photos',              u'price',\n",
       "       u'price_per_bathroom',  u'price_per_bedroom',       u'day_of_month',\n",
       "                     u'hour',        u'day_of_week'],\n",
       "      dtype='object')"
      ]
     },
     "execution_count": 36,
     "metadata": {},
     "output_type": "execute_result"
    }
   ],
   "source": [
    "df.columns"
   ]
  },
  {
   "cell_type": "code",
   "execution_count": 41,
   "metadata": {
    "collapsed": false,
    "deletable": true,
    "editable": true
   },
   "outputs": [
    {
     "data": {
      "text/plain": [
       "6"
      ]
     },
     "execution_count": 41,
     "metadata": {},
     "output_type": "execute_result"
    }
   ],
   "source": [
    "len([x for x in re.split(r'\\W+', 'come live here! At 25 Broadway.') if len(x) > 0])"
   ]
  },
  {
   "cell_type": "code",
   "execution_count": 42,
   "metadata": {
    "collapsed": false,
    "deletable": true,
    "editable": true
   },
   "outputs": [
    {
     "data": {
      "text/plain": [
       "['come', 'live', 'here', 'At', '25', 'Broadway', '']"
      ]
     },
     "execution_count": 42,
     "metadata": {},
     "output_type": "execute_result"
    }
   ],
   "source": [
    "re.split(r'\\W+', 'come live here! At 25 Broadway.')"
   ]
  },
  {
   "cell_type": "code",
   "execution_count": 43,
   "metadata": {
    "collapsed": false,
    "deletable": true,
    "editable": true
   },
   "outputs": [],
   "source": [
    "df['desc_len'] = df['description'].apply(lambda desc: len([x for x in re.split(r'\\W+', desc) if len(x) > 0]))"
   ]
  },
  {
   "cell_type": "code",
   "execution_count": 44,
   "metadata": {
    "collapsed": false,
    "deletable": true,
    "editable": true
   },
   "outputs": [],
   "source": [
    "df['num_features'] = df['features'].apply(len)"
   ]
  },
  {
   "cell_type": "code",
   "execution_count": 45,
   "metadata": {
    "collapsed": false,
    "deletable": true,
    "editable": true
   },
   "outputs": [],
   "source": [
    "df['features_len'] = df['features'].apply(lambda feats: sum([len([x for x in re.split(r'\\W+', feat) if len(x) > 0]) for feat in feats]))"
   ]
  },
  {
   "cell_type": "code",
   "execution_count": 46,
   "metadata": {
    "collapsed": false,
    "deletable": true,
    "editable": true
   },
   "outputs": [],
   "source": [
    "del df['features']"
   ]
  },
  {
   "cell_type": "code",
   "execution_count": 49,
   "metadata": {
    "collapsed": false,
    "deletable": true,
    "editable": true
   },
   "outputs": [
    {
     "data": {
      "text/plain": [
       "Index([         u'bathrooms',           u'bedrooms',     u'interest_level',\n",
       "                 u'latitude',          u'longitude',             u'photos',\n",
       "                    u'price', u'price_per_bathroom',  u'price_per_bedroom',\n",
       "             u'day_of_month',               u'hour',        u'day_of_week',\n",
       "                 u'desc_len',       u'num_features',       u'features_len'],\n",
       "      dtype='object')"
      ]
     },
     "execution_count": 49,
     "metadata": {},
     "output_type": "execute_result"
    }
   ],
   "source": [
    "df.columns"
   ]
  },
  {
   "cell_type": "code",
   "execution_count": 48,
   "metadata": {
    "collapsed": false,
    "deletable": true,
    "editable": true
   },
   "outputs": [],
   "source": [
    "del df['description']"
   ]
  },
  {
   "cell_type": "code",
   "execution_count": 51,
   "metadata": {
    "collapsed": false,
    "deletable": true,
    "editable": true
   },
   "outputs": [],
   "source": [
    "df['num_photos'] = df['photos'].apply(len)"
   ]
  },
  {
   "cell_type": "code",
   "execution_count": 52,
   "metadata": {
    "collapsed": false,
    "deletable": true,
    "editable": true
   },
   "outputs": [],
   "source": [
    "del df['photos']"
   ]
  },
  {
   "cell_type": "code",
   "execution_count": 53,
   "metadata": {
    "collapsed": false,
    "deletable": true,
    "editable": true
   },
   "outputs": [
    {
     "data": {
      "text/plain": [
       "Index([         u'bathrooms',           u'bedrooms',     u'interest_level',\n",
       "                 u'latitude',          u'longitude',              u'price',\n",
       "       u'price_per_bathroom',  u'price_per_bedroom',       u'day_of_month',\n",
       "                     u'hour',        u'day_of_week',           u'desc_len',\n",
       "             u'num_features',       u'features_len',         u'num_photos'],\n",
       "      dtype='object')"
      ]
     },
     "execution_count": 53,
     "metadata": {},
     "output_type": "execute_result"
    }
   ],
   "source": [
    "df.columns"
   ]
  },
  {
   "cell_type": "code",
   "execution_count": 54,
   "metadata": {
    "collapsed": false,
    "deletable": true,
    "editable": true
   },
   "outputs": [],
   "source": [
    "X = np.array(df[[col for col in df.columns if col != 'interest_level']], dtype = np.float)"
   ]
  },
  {
   "cell_type": "code",
   "execution_count": 55,
   "metadata": {
    "collapsed": false,
    "deletable": true,
    "editable": true
   },
   "outputs": [
    {
     "data": {
      "text/plain": [
       "(49352, 14)"
      ]
     },
     "execution_count": 55,
     "metadata": {},
     "output_type": "execute_result"
    }
   ],
   "source": [
    "X.shape"
   ]
  },
  {
   "cell_type": "code",
   "execution_count": 56,
   "metadata": {
    "collapsed": false,
    "deletable": true,
    "editable": true
   },
   "outputs": [],
   "source": [
    "X_max = X.max(axis = 0)"
   ]
  },
  {
   "cell_type": "code",
   "execution_count": 57,
   "metadata": {
    "collapsed": false,
    "deletable": true,
    "editable": true
   },
   "outputs": [
    {
     "data": {
      "text/plain": [
       "array([  1.00000000e+01,   8.00000000e+00,   4.48835000e+01,\n",
       "         0.00000000e+00,   4.49000000e+06,   2.24500000e+06,\n",
       "         1.49666667e+06,   3.10000000e+01,   2.39977778e+01,\n",
       "         6.00000000e+00,   6.94000000e+02,   3.90000000e+01,\n",
       "         1.30000000e+02,   6.80000000e+01])"
      ]
     },
     "execution_count": 57,
     "metadata": {},
     "output_type": "execute_result"
    }
   ],
   "source": [
    "X_max"
   ]
  },
  {
   "cell_type": "code",
   "execution_count": 58,
   "metadata": {
    "collapsed": false,
    "deletable": true,
    "editable": true
   },
   "outputs": [
    {
     "data": {
      "text/plain": [
       "array([  0.00000000e+00,   0.00000000e+00,   0.00000000e+00,\n",
       "        -1.18271000e+02,   4.30000000e+01,   2.15000000e+01,\n",
       "         4.30000000e+01,   1.00000000e+00,   2.83333333e-02,\n",
       "         0.00000000e+00,   0.00000000e+00,   0.00000000e+00,\n",
       "         0.00000000e+00,   0.00000000e+00])"
      ]
     },
     "execution_count": 58,
     "metadata": {},
     "output_type": "execute_result"
    }
   ],
   "source": [
    "X_min = X.min(axis = 0)\n",
    "X_min"
   ]
  },
  {
   "cell_type": "code",
   "execution_count": 59,
   "metadata": {
    "collapsed": false,
    "deletable": true,
    "editable": true
   },
   "outputs": [],
   "source": [
    "X = (X - X_min) / (X_max - X_min)"
   ]
  },
  {
   "cell_type": "code",
   "execution_count": 60,
   "metadata": {
    "collapsed": false,
    "deletable": true,
    "editable": true
   },
   "outputs": [
    {
     "data": {
      "text/plain": [
       "array([ 1.,  1.,  1.,  1.,  1.,  1.,  1.,  1.,  1.,  1.,  1.,  1.,  1.,  1.])"
      ]
     },
     "execution_count": 60,
     "metadata": {},
     "output_type": "execute_result"
    }
   ],
   "source": [
    "X.max(axis = 0)"
   ]
  },
  {
   "cell_type": "code",
   "execution_count": 61,
   "metadata": {
    "collapsed": false,
    "deletable": true,
    "editable": true
   },
   "outputs": [
    {
     "data": {
      "text/plain": [
       "array([ 0.,  0.,  0.,  0.,  0.,  0.,  0.,  0.,  0.,  0.,  0.,  0.,  0.,  0.])"
      ]
     },
     "execution_count": 61,
     "metadata": {},
     "output_type": "execute_result"
    }
   ],
   "source": [
    "X.min(axis = 0)"
   ]
  },
  {
   "cell_type": "code",
   "execution_count": 66,
   "metadata": {
    "collapsed": false,
    "deletable": true,
    "editable": true
   },
   "outputs": [],
   "source": [
    "y_dummies = pd.get_dummies(df['interest_level'])\n",
    "y = y_dummies.as_matrix()"
   ]
  },
  {
   "cell_type": "code",
   "execution_count": 64,
   "metadata": {
    "collapsed": false,
    "deletable": true,
    "editable": true
   },
   "outputs": [
    {
     "data": {
      "text/plain": [
       "(49352, 3)"
      ]
     },
     "execution_count": 64,
     "metadata": {},
     "output_type": "execute_result"
    }
   ],
   "source": [
    "y.shape"
   ]
  },
  {
   "cell_type": "code",
   "execution_count": 65,
   "metadata": {
    "collapsed": false,
    "deletable": true,
    "editable": true
   },
   "outputs": [
    {
     "data": {
      "text/plain": [
       "array([[0, 0, 1],\n",
       "       [0, 1, 0],\n",
       "       [1, 0, 0],\n",
       "       ..., \n",
       "       [0, 1, 0],\n",
       "       [0, 1, 0],\n",
       "       [0, 1, 0]], dtype=uint8)"
      ]
     },
     "execution_count": 65,
     "metadata": {},
     "output_type": "execute_result"
    }
   ],
   "source": [
    "y"
   ]
  },
  {
   "cell_type": "code",
   "execution_count": 67,
   "metadata": {
    "collapsed": false,
    "deletable": true,
    "editable": true
   },
   "outputs": [
    {
     "data": {
      "text/html": [
       "<div style=\"max-width:1500px;overflow:auto;\">\n",
       "<table border=\"1\" class=\"dataframe\">\n",
       "  <thead>\n",
       "    <tr style=\"text-align: right;\">\n",
       "      <th></th>\n",
       "      <th>high</th>\n",
       "      <th>low</th>\n",
       "      <th>medium</th>\n",
       "    </tr>\n",
       "  </thead>\n",
       "  <tbody>\n",
       "    <tr>\n",
       "      <th>10</th>\n",
       "      <td>0</td>\n",
       "      <td>0</td>\n",
       "      <td>1</td>\n",
       "    </tr>\n",
       "    <tr>\n",
       "      <th>10000</th>\n",
       "      <td>0</td>\n",
       "      <td>1</td>\n",
       "      <td>0</td>\n",
       "    </tr>\n",
       "    <tr>\n",
       "      <th>100004</th>\n",
       "      <td>1</td>\n",
       "      <td>0</td>\n",
       "      <td>0</td>\n",
       "    </tr>\n",
       "    <tr>\n",
       "      <th>100007</th>\n",
       "      <td>0</td>\n",
       "      <td>1</td>\n",
       "      <td>0</td>\n",
       "    </tr>\n",
       "    <tr>\n",
       "      <th>100013</th>\n",
       "      <td>0</td>\n",
       "      <td>1</td>\n",
       "      <td>0</td>\n",
       "    </tr>\n",
       "  </tbody>\n",
       "</table>\n",
       "</div>"
      ],
      "text/plain": [
       "        high  low  medium\n",
       "10         0    0       1\n",
       "10000      0    1       0\n",
       "100004     1    0       0\n",
       "100007     0    1       0\n",
       "100013     0    1       0"
      ]
     },
     "execution_count": 67,
     "metadata": {},
     "output_type": "execute_result"
    }
   ],
   "source": [
    "y_dummies.head()"
   ]
  },
  {
   "cell_type": "code",
   "execution_count": 69,
   "metadata": {
    "collapsed": false,
    "deletable": true,
    "editable": true
   },
   "outputs": [],
   "source": [
    "subset = np.random.choice(X.shape[0], 1000, replace = False)\n",
    "X_sub = X[subset]\n",
    "y_sub = y[subset]"
   ]
  },
  {
   "cell_type": "code",
   "execution_count": 71,
   "metadata": {
    "collapsed": false,
    "deletable": true,
    "editable": true
   },
   "outputs": [
    {
     "data": {
      "text/plain": [
       "(1000, 14)"
      ]
     },
     "execution_count": 71,
     "metadata": {},
     "output_type": "execute_result"
    }
   ],
   "source": [
    "X_sub.shape"
   ]
  },
  {
   "cell_type": "code",
   "execution_count": 74,
   "metadata": {
    "collapsed": false,
    "deletable": true,
    "editable": true
   },
   "outputs": [],
   "source": [
    "def float32(k):\n",
    "    return np.cast['float32'](k)"
   ]
  },
  {
   "cell_type": "code",
   "execution_count": 77,
   "metadata": {
    "collapsed": false,
    "deletable": true,
    "editable": true
   },
   "outputs": [],
   "source": [
    "y = y.astype(np.float32)"
   ]
  },
  {
   "cell_type": "code",
   "execution_count": 102,
   "metadata": {
    "collapsed": false,
    "deletable": true,
    "editable": true
   },
   "outputs": [],
   "source": [
    "net = NeuralNet(\n",
    "    layers = [\n",
    "        ('input', layers.InputLayer),\n",
    "        ('hidden1', layers.DenseLayer),\n",
    "        ('hidden2', layers.DenseLayer),\n",
    "        ('output', layers.DenseLayer)],\n",
    "    input_shape=(None, 14),\n",
    "    hidden1_num_units = 1000,\n",
    "    hidden2_num_units = 1000,\n",
    "    output_num_units = 3, output_nonlinearity = lasagne.nonlinearities.softmax,\n",
    "    update=nesterov_momentum,\n",
    "    update_learning_rate=theano.shared(float32(0.1)),\n",
    "    update_momentum=theano.shared(float32(0.9)),\n",
    "    max_epochs = 1000,\n",
    "    verbose = 1,\n",
    "    regression = True,\n",
    "    objective_loss_function = lasagne.objectives.categorical_crossentropy)"
   ]
  },
  {
   "cell_type": "code",
   "execution_count": 103,
   "metadata": {
    "collapsed": false,
    "deletable": true,
    "editable": true
   },
   "outputs": [
    {
     "name": "stdout",
     "output_type": "stream",
     "text": [
      "# Neural Network with 1019003 learnable parameters\n",
      "\n",
      "## Layer information\n",
      "\n",
      "  #  name       size\n",
      "---  -------  ------\n",
      "  0  input        14\n",
      "  1  hidden1    1000\n",
      "  2  hidden2    1000\n",
      "  3  output        3\n",
      "\n",
      "  epoch    trn loss    val loss    trn/val  dur\n",
      "-------  ----------  ----------  ---------  -----\n",
      "      1     \u001b[36m0.89897\u001b[0m     \u001b[32m0.82035\u001b[0m    1.09584  8.68s\n",
      "      2     \u001b[36m0.77871\u001b[0m     \u001b[32m0.81110\u001b[0m    0.96006  8.69s\n",
      "      3     \u001b[36m0.77782\u001b[0m     0.81181    0.95813  8.76s\n"
     ]
    },
    {
     "data": {
      "text/plain": [
       "NeuralNet(X_tensor_type=None,\n",
       "     batch_iterator_test=<nolearn.lasagne.base.BatchIterator object at 0x7f443ac19d90>,\n",
       "     batch_iterator_train=<nolearn.lasagne.base.BatchIterator object at 0x7f443ac19c90>,\n",
       "     check_input=True, custom_scores=None, hidden1_num_units=1000,\n",
       "     hidden2_num_units=1000, input_shape=(None, 14),\n",
       "     layers=[('input', <class 'lasagne.layers.input.InputLayer'>), ('hidden1', <class 'lasagne.layers.dense.DenseLayer'>), ('hidden2', <class 'lasagne.layers.dense.DenseLayer'>), ('output', <class 'lasagne.layers.dense.DenseLayer'>)],\n",
       "     loss=None, max_epochs=1000, more_params={},\n",
       "     objective=<function objective at 0x7f443ac21848>,\n",
       "     objective_loss_function=<function categorical_crossentropy at 0x7f443bc98410>,\n",
       "     on_batch_finished=[],\n",
       "     on_epoch_finished=[<nolearn.lasagne.handlers.PrintLog instance at 0x7f4427a80170>],\n",
       "     on_training_finished=[],\n",
       "     on_training_started=[<nolearn.lasagne.handlers.PrintLayerInfo instance at 0x7f4427a80f80>],\n",
       "     output_nonlinearity=<function softmax at 0x7f443bdfd848>,\n",
       "     output_num_units=3, regression=True, scores_train=[], scores_valid=[],\n",
       "     train_split=<nolearn.lasagne.base.TrainSplit object at 0x7f443ac19dd0>,\n",
       "     update=<function nesterov_momentum at 0x7f443bcaa140>,\n",
       "     update_learning_rate=<TensorType(float32, scalar)>,\n",
       "     update_momentum=<TensorType(float32, scalar)>,\n",
       "     use_label_encoder=False, verbose=1,\n",
       "     y_tensor_type=TensorType(float64, matrix))"
      ]
     },
     "execution_count": 103,
     "metadata": {},
     "output_type": "execute_result"
    }
   ],
   "source": [
    "net.fit(X_sub, y_sub)"
   ]
  },
  {
   "cell_type": "code",
   "execution_count": 94,
   "metadata": {
    "collapsed": false,
    "deletable": true,
    "editable": true
   },
   "outputs": [],
   "source": [
    "def plot_net(net):\n",
    "    from matplotlib import pyplot\n",
    "    train_loss = np.array([i[\"train_loss\"] for i in net.train_history_])\n",
    "    valid_loss = np.array([i[\"valid_loss\"] for i in net.train_history_])\n",
    "    pyplot.plot(train_loss, linewidth=3, label=\"train\")\n",
    "    pyplot.plot(valid_loss, linewidth=3, label=\"valid\")\n",
    "    pyplot.grid()\n",
    "    pyplot.legend()\n",
    "    pyplot.xlabel(\"epoch\")\n",
    "    pyplot.ylabel(\"loss\")\n",
    "    pyplot.ylim(5e-1, 1)\n",
    "    pyplot.yscale(\"log\")\n",
    "    try:\n",
    "        pyplot.show()\n",
    "    except RuntimeError as e:\n",
    "        print \"Unable to show plot\", e"
   ]
  },
  {
   "cell_type": "code",
   "execution_count": 88,
   "metadata": {
    "collapsed": false,
    "deletable": true,
    "editable": true
   },
   "outputs": [],
   "source": [
    "%matplotlib inline"
   ]
  },
  {
   "cell_type": "code",
   "execution_count": 95,
   "metadata": {
    "collapsed": false,
    "deletable": true,
    "editable": true
   },
   "outputs": [
    {
     "data": {
      "image/png": "[encoded data removed]",
      "text/plain": [
       "<matplotlib.figure.Figure at 0x7f4427e3f190>"
      ]
     },
     "metadata": {},
     "output_type": "display_data"
    }
   ],
   "source": [
    "plot_net(net)"
   ]
  },
  {
   "cell_type": "code",
   "execution_count": 96,
   "metadata": {
    "collapsed": false,
    "deletable": true,
    "editable": true
   },
   "outputs": [],
   "source": [
    "class LinearAdjustVariable(object):\n",
    "    def __init__(self, name, start=0.03, stop=0.001):\n",
    "        self.name = name\n",
    "        self.start, self.stop = start, stop\n",
    "        self.ls = None\n",
    "\n",
    "    def __call__(self, nn, train_history):\n",
    "        if self.ls is None:\n",
    "            self.ls = np.linspace(self.start, self.stop, nn.max_epochs)\n",
    "\n",
    "        epoch = train_history[-1]['epoch']\n",
    "        new_value = float32(self.ls[epoch - 1])\n",
    "        getattr(nn, self.name).set_value(new_value)\n",
    "\n",
    "class EarlyStopping(object):\n",
    "    def __init__(self, patience=100):\n",
    "        self.patience = patience\n",
    "        self.best_valid = np.inf\n",
    "        self.best_valid_epoch = 0\n",
    "        self.best_weights = None\n",
    "\n",
    "    def __call__(self, nn, train_history):\n",
    "        current_valid = train_history[-1]['valid_loss']\n",
    "        current_epoch = train_history[-1]['epoch']\n",
    "        if current_valid < self.best_valid:\n",
    "            self.best_valid = current_valid\n",
    "            self.best_valid_epoch = current_epoch\n",
    "            self.best_weights = nn.get_all_params_values()\n",
    "        elif self.best_valid_epoch + self.patience < current_epoch:\n",
    "            print(\"Early stopping.\")\n",
    "            print(\"Best valid loss was {:.6f} at epoch {}.\".format(\n",
    "                self.best_valid, self.best_valid_epoch))\n",
    "            nn.load_params_from(self.best_weights)\n",
    "            raise StopIteration()"
   ]
  },
  {
   "cell_type": "code",
   "execution_count": 106,
   "metadata": {
    "collapsed": false,
    "deletable": true,
    "editable": true
   },
   "outputs": [],
   "source": [
    "net = NeuralNet(\n",
    "    layers = [\n",
    "        ('input', layers.InputLayer),\n",
    "        ('hidden1', layers.DenseLayer),\n",
    "        ('hidden2', layers.DenseLayer),\n",
    "        ('output', layers.DenseLayer)],\n",
    "    input_shape=(None, 14),\n",
    "    hidden1_num_units = 1000,\n",
    "    hidden2_num_units = 1000,\n",
    "    output_num_units = 3, output_nonlinearity = lasagne.nonlinearities.softmax,\n",
    "    update=nesterov_momentum,\n",
    "    update_learning_rate=theano.shared(float32(0.1)),\n",
    "    update_momentum=theano.shared(float32(0.9)),\n",
    "    max_epochs = 1000,\n",
    "    verbose = 1,\n",
    "    regression = True,\n",
    "    on_epoch_finished=[\n",
    "            LinearAdjustVariable('update_learning_rate', start=0.1, stop=0.0001),\n",
    "            LinearAdjustVariable('update_momentum', start=0.9, stop=0.999),\n",
    "            EarlyStopping(patience=20),\n",
    "        ],\n",
    "    objective_loss_function = lasagne.objectives.categorical_crossentropy)"
   ]
  },
  {
   "cell_type": "code",
   "execution_count": 107,
   "metadata": {
    "collapsed": false,
    "deletable": true,
    "editable": true
   },
   "outputs": [
    {
     "name": "stdout",
     "output_type": "stream",
     "text": [
      "# Neural Network with 1019003 learnable parameters\n",
      "\n",
      "## Layer information\n",
      "\n",
      "  #  name       size\n",
      "---  -------  ------\n",
      "  0  input        14\n",
      "  1  hidden1    1000\n",
      "  2  hidden2    1000\n",
      "  3  output        3\n",
      "\n",
      "  epoch    trn loss    val loss    trn/val  dur\n",
      "-------  ----------  ----------  ---------  -----\n",
      "      1     \u001b[36m0.89226\u001b[0m     \u001b[32m0.81929\u001b[0m    1.08906  8.85s\n",
      "      2     \u001b[36m0.78023\u001b[0m     \u001b[32m0.81161\u001b[0m    0.96133  8.65s\n",
      "      3     \u001b[36m0.77801\u001b[0m     0.81243    0.95763  8.61s\n",
      "      4     \u001b[36m0.77622\u001b[0m     \u001b[32m0.80870\u001b[0m    0.95984  8.70s\n",
      "      5     \u001b[36m0.77132\u001b[0m     \u001b[32m0.80738\u001b[0m    0.95533  8.76s\n",
      "      6     \u001b[36m0.76860\u001b[0m     \u001b[32m0.80692\u001b[0m    0.95250  8.66s\n",
      "      7     \u001b[36m0.76722\u001b[0m     \u001b[32m0.80576\u001b[0m    0.95217  8.62s\n",
      "      8     \u001b[36m0.76543\u001b[0m     \u001b[32m0.80441\u001b[0m    0.95155  8.64s\n",
      "      9     \u001b[36m0.76388\u001b[0m     \u001b[32m0.80292\u001b[0m    0.95138  8.63s\n",
      "     10     \u001b[36m0.76254\u001b[0m     \u001b[32m0.80132\u001b[0m    0.95160  8.63s\n",
      "     11     \u001b[36m0.76119\u001b[0m     \u001b[32m0.79984\u001b[0m    0.95167  8.63s\n",
      "     12     \u001b[36m0.76004\u001b[0m     \u001b[32m0.79854\u001b[0m    0.95179  8.62s\n",
      "     13     \u001b[36m0.75908\u001b[0m     \u001b[32m0.79735\u001b[0m    0.95200  8.63s\n",
      "     14     \u001b[36m0.75813\u001b[0m     \u001b[32m0.79615\u001b[0m    0.95225  8.74s\n",
      "     15     \u001b[36m0.75712\u001b[0m     \u001b[32m0.79510\u001b[0m    0.95223  8.71s\n",
      "     16     \u001b[36m0.75625\u001b[0m     \u001b[32m0.79414\u001b[0m    0.95228  8.67s\n",
      "     17     \u001b[36m0.75541\u001b[0m     \u001b[32m0.79343\u001b[0m    0.95208  8.63s\n",
      "     18     \u001b[36m0.75452\u001b[0m     \u001b[32m0.79269\u001b[0m    0.95185  8.63s\n",
      "     19     \u001b[36m0.75373\u001b[0m     \u001b[32m0.79191\u001b[0m    0.95179  8.62s\n",
      "     20     \u001b[36m0.75291\u001b[0m     \u001b[32m0.79138\u001b[0m    0.95139  8.62s\n",
      "     21     \u001b[36m0.75211\u001b[0m     \u001b[32m0.79062\u001b[0m    0.95130  8.63s\n",
      "     22     \u001b[36m0.75118\u001b[0m     \u001b[32m0.79005\u001b[0m    0.95079  8.63s\n",
      "     23     \u001b[36m0.75042\u001b[0m     \u001b[32m0.78945\u001b[0m    0.95057  8.63s\n",
      "     24     \u001b[36m0.74956\u001b[0m     \u001b[32m0.78891\u001b[0m    0.95012  8.63s\n",
      "     25     \u001b[36m0.74867\u001b[0m     \u001b[32m0.78847\u001b[0m    0.94952  8.63s\n",
      "     26     \u001b[36m0.74794\u001b[0m     \u001b[32m0.78810\u001b[0m    0.94904  8.63s\n",
      "     27     \u001b[36m0.74707\u001b[0m     \u001b[32m0.78765\u001b[0m    0.94848  8.63s\n",
      "     28     \u001b[36m0.74624\u001b[0m     \u001b[32m0.78704\u001b[0m    0.94816  8.71s\n",
      "     29     \u001b[36m0.74543\u001b[0m     \u001b[32m0.78680\u001b[0m    0.94743  8.69s\n",
      "     30     \u001b[36m0.74465\u001b[0m     \u001b[32m0.78643\u001b[0m    0.94687  8.62s\n",
      "     31     \u001b[36m0.74370\u001b[0m     \u001b[32m0.78639\u001b[0m    0.94571  8.63s\n",
      "     32     \u001b[36m0.74302\u001b[0m     \u001b[32m0.78609\u001b[0m    0.94521  8.62s\n",
      "     33     \u001b[36m0.74213\u001b[0m     \u001b[32m0.78557\u001b[0m    0.94470  8.62s\n",
      "     34     \u001b[36m0.74099\u001b[0m     0.78564    0.94317  8.67s\n",
      "     35     \u001b[36m0.74032\u001b[0m     \u001b[32m0.78552\u001b[0m    0.94245  8.66s\n",
      "     36     \u001b[36m0.73921\u001b[0m     0.78556    0.94100  8.65s\n",
      "     37     \u001b[36m0.73833\u001b[0m     \u001b[32m0.78508\u001b[0m    0.94045  8.66s\n",
      "     38     \u001b[36m0.73724\u001b[0m     \u001b[32m0.78503\u001b[0m    0.93912  8.71s\n",
      "     39     \u001b[36m0.73644\u001b[0m     \u001b[32m0.78458\u001b[0m    0.93864  9.27s\n",
      "     40     \u001b[36m0.73520\u001b[0m     0.78492    0.93666  9.96s\n",
      "     41     \u001b[36m0.73435\u001b[0m     0.78467    0.93586  8.66s\n",
      "     42     \u001b[36m0.73328\u001b[0m     \u001b[32m0.78428\u001b[0m    0.93497  8.59s\n",
      "     43     \u001b[36m0.73209\u001b[0m     0.78490    0.93271  8.59s\n",
      "     44     \u001b[36m0.73105\u001b[0m     \u001b[32m0.78419\u001b[0m    0.93223  8.59s\n",
      "     45     \u001b[36m0.72972\u001b[0m     0.78445    0.93022  8.59s\n",
      "     46     \u001b[36m0.72876\u001b[0m     0.78442    0.92904  8.59s\n",
      "     47     \u001b[36m0.72769\u001b[0m     \u001b[32m0.78409\u001b[0m    0.92806  8.59s\n",
      "     48     \u001b[36m0.72663\u001b[0m     0.78492    0.92573  8.59s\n",
      "     49     \u001b[36m0.72553\u001b[0m     \u001b[32m0.78393\u001b[0m    0.92550  8.59s\n",
      "     50     \u001b[36m0.72431\u001b[0m     \u001b[32m0.78372\u001b[0m    0.92419  8.59s\n",
      "     51     \u001b[36m0.72301\u001b[0m     0.78432    0.92183  8.75s\n",
      "     52     \u001b[36m0.72187\u001b[0m     \u001b[32m0.78335\u001b[0m    0.92151  8.96s\n",
      "     53     \u001b[36m0.72066\u001b[0m     0.78408    0.91911  8.71s\n",
      "     54     \u001b[36m0.71936\u001b[0m     \u001b[32m0.78257\u001b[0m    0.91923  8.68s\n",
      "     55     \u001b[36m0.71807\u001b[0m     0.78299    0.91709  8.83s\n",
      "     56     \u001b[36m0.71709\u001b[0m     0.78298    0.91585  8.75s\n",
      "     57     \u001b[36m0.71545\u001b[0m     0.78310    0.91361  8.69s\n",
      "     58     \u001b[36m0.71444\u001b[0m     0.78318    0.91223  8.64s\n",
      "     59     \u001b[36m0.71321\u001b[0m     0.78326    0.91057  8.64s\n",
      "     60     \u001b[36m0.71180\u001b[0m     0.78322    0.90882  8.63s\n",
      "     61     \u001b[36m0.71060\u001b[0m     0.78279    0.90778  8.62s\n",
      "     62     \u001b[36m0.70913\u001b[0m     \u001b[32m0.78250\u001b[0m    0.90624  8.62s\n",
      "     63     \u001b[36m0.70752\u001b[0m     0.78321    0.90336  8.62s\n",
      "     64     \u001b[36m0.70618\u001b[0m     \u001b[32m0.78246\u001b[0m    0.90250  8.62s\n",
      "     65     \u001b[36m0.70505\u001b[0m     \u001b[32m0.78193\u001b[0m    0.90168  8.62s\n",
      "     66     \u001b[36m0.70380\u001b[0m     0.78225    0.89972  8.62s\n",
      "     67     \u001b[36m0.70233\u001b[0m     0.78302    0.89694  8.62s\n",
      "     68     \u001b[36m0.70089\u001b[0m     0.78202    0.89625  8.62s\n",
      "     69     \u001b[36m0.69921\u001b[0m     0.78255    0.89350  8.77s\n",
      "     70     \u001b[36m0.69791\u001b[0m     \u001b[32m0.78185\u001b[0m    0.89263  8.72s\n",
      "     71     \u001b[36m0.69604\u001b[0m     0.78307    0.88886  8.68s\n",
      "     72     \u001b[36m0.69486\u001b[0m     \u001b[32m0.78165\u001b[0m    0.88897  8.67s\n",
      "     73     \u001b[36m0.69309\u001b[0m     \u001b[32m0.78142\u001b[0m    0.88696  8.63s\n",
      "     74     \u001b[36m0.69078\u001b[0m     \u001b[32m0.78014\u001b[0m    0.88546  8.64s\n",
      "     75     \u001b[36m0.69011\u001b[0m     0.78166    0.88288  8.64s\n",
      "     76     \u001b[36m0.68847\u001b[0m     0.78080    0.88175  8.63s\n",
      "     77     \u001b[36m0.68633\u001b[0m     0.78295    0.87659  8.64s\n",
      "     78     \u001b[36m0.68495\u001b[0m     \u001b[32m0.77986\u001b[0m    0.87830  8.71s\n",
      "     79     \u001b[36m0.68253\u001b[0m     0.78208    0.87270  8.62s\n",
      "     80     \u001b[36m0.68094\u001b[0m     0.78005    0.87293  8.62s\n",
      "     81     \u001b[36m0.67933\u001b[0m     0.78174    0.86899  8.62s\n",
      "     82     \u001b[36m0.67842\u001b[0m     0.78381    0.86554  8.62s\n",
      "     83     \u001b[36m0.67692\u001b[0m     0.78223    0.86538  8.65s\n",
      "     84     \u001b[36m0.67407\u001b[0m     0.78232    0.86163  8.60s\n",
      "     85     0.67407     0.78190    0.86209  8.63s\n",
      "     86     \u001b[36m0.67248\u001b[0m     0.78955    0.85172  8.75s\n",
      "     87     0.67445     0.78322    0.86112  8.62s\n",
      "     88     0.67527     0.78795    0.85699  8.62s\n",
      "     89     \u001b[36m0.67031\u001b[0m     0.78276    0.85634  8.62s\n",
      "     90     \u001b[36m0.66811\u001b[0m     0.78386    0.85233  8.63s\n",
      "     91     \u001b[36m0.66588\u001b[0m     0.78304    0.85038  8.62s\n",
      "     92     0.66822     0.78146    0.85508  8.62s\n",
      "     93     \u001b[36m0.66310\u001b[0m     0.78875    0.84069  8.62s\n",
      "     94     0.66720     0.78231    0.85285  8.62s\n",
      "     95     \u001b[36m0.65773\u001b[0m     0.79088    0.83164  8.62s\n",
      "     96     0.66265     0.78061    0.84889  8.62s\n",
      "     97     \u001b[36m0.65661\u001b[0m     0.79362    0.82737  8.68s\n",
      "     98     0.65875     \u001b[32m0.77903\u001b[0m    0.84560  8.62s\n",
      "     99     \u001b[36m0.65338\u001b[0m     0.79959    0.81714  8.62s\n",
      "    100     0.65645     0.78030    0.84128  8.62s\n",
      "    101     \u001b[36m0.65128\u001b[0m     0.80853    0.80551  8.62s\n",
      "    102     0.65726     0.77960    0.84308  8.62s\n",
      "    103     \u001b[36m0.64729\u001b[0m     0.81459    0.79462  8.62s\n",
      "    104     0.65395     0.78143    0.83687  8.68s\n",
      "    105     \u001b[36m0.64397\u001b[0m     0.80711    0.79787  8.65s\n",
      "    106     0.64511     0.78588    0.82088  8.62s\n",
      "    107     \u001b[36m0.64051\u001b[0m     0.80913    0.79160  8.62s\n",
      "    108     0.64558     0.78744    0.81984  8.61s\n",
      "    109     0.64374     0.81934    0.78568  8.61s\n",
      "    110     0.64301     0.78668    0.81737  8.61s\n",
      "    111     \u001b[36m0.63688\u001b[0m     0.81745    0.77911  8.70s\n",
      "    112     \u001b[36m0.63638\u001b[0m     0.78574    0.80992  8.66s\n",
      "    113     \u001b[36m0.62549\u001b[0m     0.81167    0.77062  8.84s\n",
      "    114     0.62805     0.78545    0.79960  8.65s\n",
      "    115     0.62753     0.85245    0.73615  8.66s\n",
      "    116     0.63351     0.78635    0.80564  8.63s\n",
      "    117     \u001b[36m0.61663\u001b[0m     0.83797    0.73586  8.64s\n",
      "    118     0.63014     0.78708    0.80061  8.63s\n",
      "Early stopping.\n",
      "Best valid loss was 0.779035 at epoch 98.\n",
      "Loaded parameters to layer 'hidden1' (shape 14x1000).\n",
      "Loaded parameters to layer 'hidden1' (shape 1000).\n",
      "Loaded parameters to layer 'hidden2' (shape 1000x1000).\n",
      "Loaded parameters to layer 'hidden2' (shape 1000).\n",
      "Loaded parameters to layer 'output' (shape 1000x3).\n",
      "Loaded parameters to layer 'output' (shape 3).\n"
     ]
    },
    {
     "data": {
      "text/plain": [
       "NeuralNet(X_tensor_type=None,\n",
       "     batch_iterator_test=<nolearn.lasagne.base.BatchIterator object at 0x7f443ac19d90>,\n",
       "     batch_iterator_train=<nolearn.lasagne.base.BatchIterator object at 0x7f443ac19c90>,\n",
       "     check_input=True, custom_scores=None, hidden1_num_units=1000,\n",
       "     hidden2_num_units=1000, input_shape=(None, 14),\n",
       "     layers=[('input', <class 'lasagne.layers.input.InputLayer'>), ('hidden1', <class 'lasagne.layers.dense.DenseLayer'>), ('hidden2', <class 'lasagne.layers.dense.DenseLayer'>), ('output', <class 'lasagne.layers.dense.DenseLayer'>)],\n",
       "     loss=None, max_epochs=1000, more_params={},\n",
       "     objective=<function objective at 0x7f443ac21848>,\n",
       "     objective_loss_function=<function categorical_crossentropy at 0x7f443bc98410>,\n",
       "     on_batch_finished=[],\n",
       "     on_epoch_finished=[<__main__.LinearAdjustVariable object at 0x7f4427213ed0>, <__main__.LinearAdjustVariable object at 0x7f4427213c50>, <__main__.EarlyStopping object at 0x7f4427213490>, <nolearn.lasagne.handlers.PrintLog instance at 0x7f4427223518>],\n",
       "     on_training_finished=[],\n",
       "     on_training_started=[<nolearn.lasagne.handlers.PrintLayerInfo instance at 0x7f44272233f8>],\n",
       "     output_nonlinearity=<function softmax at 0x7f443bdfd848>,\n",
       "     output_num_units=3, regression=True, scores_train=[], scores_valid=[],\n",
       "     train_split=<nolearn.lasagne.base.TrainSplit object at 0x7f443ac19dd0>,\n",
       "     update=<function nesterov_momentum at 0x7f443bcaa140>,\n",
       "     update_learning_rate=<TensorType(float32, scalar)>,\n",
       "     update_momentum=<TensorType(float32, scalar)>,\n",
       "     use_label_encoder=False, verbose=1,\n",
       "     y_tensor_type=TensorType(float64, matrix))"
      ]
     },
     "execution_count": 107,
     "metadata": {},
     "output_type": "execute_result"
    }
   ],
   "source": [
    "net.fit(X_sub, y_sub)"
   ]
  },
  {
   "cell_type": "code",
   "execution_count": 108,
   "metadata": {
    "collapsed": false,
    "deletable": true,
    "editable": true
   },
   "outputs": [
    {
     "data": {
      "image/png": "[encoded data removed]",
      "text/plain": [
       "<matplotlib.figure.Figure at 0x7f4426d4ed90>"
      ]
     },
     "metadata": {},
     "output_type": "display_data"
    }
   ],
   "source": [
    "plot_net(net)"
   ]
  },
  {
   "cell_type": "code",
   "execution_count": 110,
   "metadata": {
    "collapsed": false,
    "deletable": true,
    "editable": true
   },
   "outputs": [],
   "source": [
    "long_mean = df['longitude'].mean()\n",
    "long_sd = df['longitude'].std()\n",
    "df['longitude'] = df['longitude'].apply(lambda x: max(min(x, long_mean + 5*long_sd), long_mean - 5*long_sd))"
   ]
  },
  {
   "cell_type": "code",
   "execution_count": 111,
   "metadata": {
    "collapsed": false,
    "deletable": true,
    "editable": true
   },
   "outputs": [],
   "source": [
    "lat_mean = df['latitude'].mean()\n",
    "lat_sd = df['latitude'].std()\n",
    "df['latitude'] = df['latitude'].apply(lambda x: max(min(x, lat_mean + 5*lat_sd), lat_mean - 5*lat_sd))"
   ]
  },
  {
   "cell_type": "code",
   "execution_count": 112,
   "metadata": {
    "collapsed": false,
    "deletable": true,
    "editable": true
   },
   "outputs": [],
   "source": [
    "X = np.array(df[[col for col in df.columns if col != 'interest_level']], dtype = np.float)\n",
    "X_max = X.max(axis = 0)\n",
    "X_min = X.min(axis = 0)\n",
    "X = (X - X_min) / (X_max - X_min)"
   ]
  },
  {
   "cell_type": "code",
   "execution_count": 113,
   "metadata": {
    "collapsed": false,
    "deletable": true,
    "editable": true
   },
   "outputs": [],
   "source": [
    "subset = np.random.choice(X.shape[0], 1000, replace = False)\n",
    "X_sub = X[subset]\n",
    "y_sub = y[subset]"
   ]
  },
  {
   "cell_type": "code",
   "execution_count": 119,
   "metadata": {
    "collapsed": false,
    "deletable": true,
    "editable": true
   },
   "outputs": [],
   "source": [
    "net = NeuralNet(\n",
    "    layers = [\n",
    "        ('input', layers.InputLayer),\n",
    "        ('hidden1', layers.DenseLayer),\n",
    "        ('hidden2', layers.DenseLayer),\n",
    "        ('hidden3', layers.DenseLayer),\n",
    "        ('output', layers.DenseLayer)],\n",
    "    input_shape=(None, 14),\n",
    "    hidden1_num_units = 800,\n",
    "    hidden2_num_units = 1000,\n",
    "    hidden3_num_units = 200,\n",
    "    output_num_units = 3, output_nonlinearity = lasagne.nonlinearities.softmax,\n",
    "    update=nesterov_momentum,\n",
    "    update_learning_rate=theano.shared(float32(0.1)),\n",
    "    update_momentum=theano.shared(float32(0.9)),\n",
    "    max_epochs = 1000,\n",
    "    verbose = 1,\n",
    "    regression = True,\n",
    "    on_epoch_finished=[\n",
    "            LinearAdjustVariable('update_learning_rate', start=0.1, stop=0.0001),\n",
    "            LinearAdjustVariable('update_momentum', start=0.9, stop=0.999),\n",
    "            EarlyStopping(patience=50),\n",
    "        ],\n",
    "    objective_loss_function = lasagne.objectives.categorical_crossentropy)"
   ]
  },
  {
   "cell_type": "code",
   "execution_count": 120,
   "metadata": {
    "collapsed": false,
    "deletable": true,
    "editable": true
   },
   "outputs": [
    {
     "name": "stdout",
     "output_type": "stream",
     "text": [
      "# Neural Network with 1013803 learnable parameters\n",
      "\n",
      "## Layer information\n",
      "\n",
      "  #  name       size\n",
      "---  -------  ------\n",
      "  0  input        14\n",
      "  1  hidden1     800\n",
      "  2  hidden2    1000\n",
      "  3  hidden3     200\n",
      "  4  output        3\n",
      "\n",
      "  epoch    trn loss    val loss    trn/val  dur\n",
      "-------  ----------  ----------  ---------  -----\n",
      "      1     \u001b[36m0.91439\u001b[0m     \u001b[32m0.78578\u001b[0m    1.16367  8.63s\n",
      "      2     \u001b[36m0.84220\u001b[0m     \u001b[32m0.78435\u001b[0m    1.07375  8.57s\n",
      "      3     \u001b[36m0.82513\u001b[0m     \u001b[32m0.78160\u001b[0m    1.05569  8.60s\n",
      "      4     \u001b[36m0.82117\u001b[0m     0.78248    1.04945  8.56s\n",
      "      5     \u001b[36m0.82047\u001b[0m     0.78203    1.04916  8.56s\n",
      "      6     \u001b[36m0.81865\u001b[0m     \u001b[32m0.78140\u001b[0m    1.04766  8.56s\n",
      "      7     \u001b[36m0.81668\u001b[0m     \u001b[32m0.78065\u001b[0m    1.04614  8.56s\n",
      "      8     \u001b[36m0.81452\u001b[0m     0.78075    1.04326  8.59s\n",
      "      9     \u001b[36m0.81260\u001b[0m     \u001b[32m0.78041\u001b[0m    1.04125  8.59s\n",
      "     10     \u001b[36m0.81022\u001b[0m     \u001b[32m0.78035\u001b[0m    1.03828  8.78s\n",
      "     11     \u001b[36m0.80794\u001b[0m     0.78040    1.03529  8.62s\n",
      "     12     \u001b[36m0.80531\u001b[0m     0.78204    1.02975  8.78s\n",
      "     13     \u001b[36m0.80331\u001b[0m     0.78560    1.02254  8.71s\n",
      "     14     \u001b[36m0.80168\u001b[0m     0.78701    1.01864  8.57s\n",
      "     15     \u001b[36m0.79973\u001b[0m     0.78557    1.01803  8.67s\n",
      "     16     \u001b[36m0.79772\u001b[0m     0.78485    1.01640  8.74s\n",
      "     17     \u001b[36m0.79676\u001b[0m     0.78193    1.01896  8.63s\n",
      "     18     \u001b[36m0.79563\u001b[0m     \u001b[32m0.77754\u001b[0m    1.02326  8.57s\n",
      "     19     \u001b[36m0.79465\u001b[0m     \u001b[32m0.77565\u001b[0m    1.02449  8.57s\n",
      "     20     \u001b[36m0.79374\u001b[0m     0.77643    1.02230  8.57s\n",
      "     21     \u001b[36m0.79282\u001b[0m     \u001b[32m0.77434\u001b[0m    1.02386  8.57s\n",
      "     22     \u001b[36m0.79195\u001b[0m     0.77517    1.02165  8.57s\n",
      "     23     \u001b[36m0.79104\u001b[0m     \u001b[32m0.77341\u001b[0m    1.02280  8.56s\n",
      "     24     \u001b[36m0.79051\u001b[0m     0.77367    1.02177  8.70s\n",
      "     25     \u001b[36m0.78901\u001b[0m     \u001b[32m0.77179\u001b[0m    1.02232  8.57s\n",
      "     26     \u001b[36m0.78829\u001b[0m     0.77378    1.01876  8.59s\n",
      "     27     \u001b[36m0.78711\u001b[0m     0.77320    1.01799  8.57s\n",
      "     28     \u001b[36m0.78656\u001b[0m     0.77461    1.01543  8.58s\n",
      "     29     \u001b[36m0.78536\u001b[0m     0.77532    1.01295  8.56s\n",
      "     30     \u001b[36m0.78414\u001b[0m     0.77663    1.00967  8.68s\n",
      "     31     \u001b[36m0.78352\u001b[0m     0.77682    1.00863  8.60s\n",
      "     32     \u001b[36m0.78170\u001b[0m     0.77643    1.00679  8.57s\n",
      "     33     0.78257     0.77699    1.00718  8.56s\n",
      "     34     \u001b[36m0.78030\u001b[0m     0.77871    1.00205  8.57s\n",
      "     35     \u001b[36m0.77981\u001b[0m     0.77669    1.00401  8.57s\n",
      "     36     \u001b[36m0.77828\u001b[0m     0.77948    0.99845  8.56s\n",
      "     37     \u001b[36m0.77729\u001b[0m     0.77983    0.99674  8.61s\n",
      "     38     \u001b[36m0.77520\u001b[0m     0.77962    0.99434  8.65s\n",
      "     39     0.77538     0.77979    0.99435  8.57s\n",
      "     40     \u001b[36m0.77352\u001b[0m     0.77909    0.99285  8.62s\n",
      "     41     \u001b[36m0.77211\u001b[0m     0.78451    0.98420  8.60s\n",
      "     42     \u001b[36m0.77006\u001b[0m     0.78372    0.98258  8.58s\n",
      "     43     \u001b[36m0.76924\u001b[0m     0.78475    0.98024  8.57s\n",
      "     44     \u001b[36m0.76781\u001b[0m     0.78526    0.97778  8.61s\n",
      "     45     \u001b[36m0.76692\u001b[0m     0.78700    0.97449  8.57s\n",
      "     46     \u001b[36m0.76457\u001b[0m     0.78655    0.97205  8.58s\n",
      "     47     \u001b[36m0.76311\u001b[0m     0.78898    0.96721  8.58s\n",
      "     48     \u001b[36m0.76230\u001b[0m     0.79033    0.96454  8.57s\n",
      "     49     \u001b[36m0.75976\u001b[0m     0.78952    0.96230  8.58s\n",
      "     50     \u001b[36m0.75974\u001b[0m     0.79129    0.96013  8.58s\n",
      "     51     \u001b[36m0.75657\u001b[0m     0.79064    0.95691  8.58s\n",
      "     52     \u001b[36m0.75557\u001b[0m     0.79194    0.95407  9.14s\n",
      "     53     \u001b[36m0.75272\u001b[0m     0.79602    0.94560  8.76s\n",
      "     54     \u001b[36m0.75163\u001b[0m     0.79728    0.94275  8.66s\n",
      "     55     \u001b[36m0.74863\u001b[0m     0.79655    0.93984  8.59s\n",
      "     56     \u001b[36m0.74772\u001b[0m     0.80073    0.93380  8.60s\n",
      "     57     \u001b[36m0.74439\u001b[0m     0.80036    0.93007  8.58s\n",
      "     58     \u001b[36m0.74409\u001b[0m     0.80288    0.92677  8.59s\n",
      "     59     \u001b[36m0.74112\u001b[0m     0.80858    0.91657  8.58s\n",
      "     60     \u001b[36m0.73904\u001b[0m     0.80975    0.91268  8.59s\n",
      "     61     \u001b[36m0.73846\u001b[0m     0.81234    0.90906  8.58s\n",
      "     62     \u001b[36m0.73532\u001b[0m     0.81371    0.90367  8.61s\n",
      "     63     \u001b[36m0.73388\u001b[0m     0.81698    0.89829  8.60s\n",
      "     64     \u001b[36m0.73121\u001b[0m     0.81926    0.89252  8.57s\n",
      "     65     \u001b[36m0.73006\u001b[0m     0.82486    0.88507  8.71s\n",
      "     66     \u001b[36m0.72627\u001b[0m     0.82028    0.88539  8.75s\n",
      "     67     0.72898     0.82673    0.88176  8.62s\n",
      "     68     \u001b[36m0.72328\u001b[0m     0.82456    0.87717  8.65s\n",
      "     69     0.72410     0.82758    0.87496  8.58s\n",
      "     70     \u001b[36m0.71943\u001b[0m     0.83046    0.86630  8.61s\n",
      "     71     \u001b[36m0.71761\u001b[0m     0.83095    0.86359  8.64s\n",
      "     72     \u001b[36m0.71603\u001b[0m     0.83437    0.85817  8.57s\n",
      "     73     \u001b[36m0.71386\u001b[0m     0.83387    0.85607  8.60s\n",
      "     74     \u001b[36m0.71036\u001b[0m     0.83934    0.84633  8.57s\n",
      "     75     \u001b[36m0.70749\u001b[0m     0.84084    0.84141  8.58s\n",
      "Early stopping.\n",
      "Best valid loss was 0.771786 at epoch 25.\n",
      "Loaded parameters to layer 'hidden1' (shape 14x800).\n",
      "Loaded parameters to layer 'hidden1' (shape 800).\n",
      "Loaded parameters to layer 'hidden2' (shape 800x1000).\n",
      "Loaded parameters to layer 'hidden2' (shape 1000).\n",
      "Loaded parameters to layer 'hidden3' (shape 1000x200).\n",
      "Loaded parameters to layer 'hidden3' (shape 200).\n",
      "Loaded parameters to layer 'output' (shape 200x3).\n",
      "Loaded parameters to layer 'output' (shape 3).\n"
     ]
    },
    {
     "data": {
      "text/plain": [
       "NeuralNet(X_tensor_type=None,\n",
       "     batch_iterator_test=<nolearn.lasagne.base.BatchIterator object at 0x7f443ac19d90>,\n",
       "     batch_iterator_train=<nolearn.lasagne.base.BatchIterator object at 0x7f443ac19c90>,\n",
       "     check_input=True, custom_scores=None, hidden1_num_units=800,\n",
       "     hidden2_num_units=1000, hidden3_num_units=200, input_shape=(None, 14),\n",
       "     layers=[('input', <class 'lasagne.layers.input.InputLayer'>), ('hidden1', <class 'lasagne.layers.dense.DenseLayer'>), ('hidden2', <class 'lasagne.layers.dense.DenseLayer'>), ('hidden3', <class 'lasagne.layers.dense.DenseLayer'>), ('output', <class 'lasagne.layers.dense.DenseLayer'>)],\n",
       "     loss=None, max_epochs=1000, more_params={},\n",
       "     objective=<function objective at 0x7f443ac21848>,\n",
       "     objective_loss_function=<function categorical_crossentropy at 0x7f443bc98410>,\n",
       "     on_batch_finished=[],\n",
       "     on_epoch_finished=[<__main__.LinearAdjustVariable object at 0x7f4426275fd0>, <__main__.LinearAdjustVariable object at 0x7f44262fc290>, <__main__.EarlyStopping object at 0x7f44262fc2d0>, <nolearn.lasagne.handlers.PrintLog instance at 0x7f442625dd88>],\n",
       "     on_training_finished=[],\n",
       "     on_training_started=[<nolearn.lasagne.handlers.PrintLayerInfo instance at 0x7f4426283e60>],\n",
       "     output_nonlinearity=<function softmax at 0x7f443bdfd848>,\n",
       "     output_num_units=3, regression=True, scores_train=[], scores_valid=[],\n",
       "     train_split=<nolearn.lasagne.base.TrainSplit object at 0x7f443ac19dd0>,\n",
       "     update=<function nesterov_momentum at 0x7f443bcaa140>,\n",
       "     update_learning_rate=<TensorType(float32, scalar)>,\n",
       "     update_momentum=<TensorType(float32, scalar)>,\n",
       "     use_label_encoder=False, verbose=1,\n",
       "     y_tensor_type=TensorType(float64, matrix))"
      ]
     },
     "execution_count": 120,
     "metadata": {},
     "output_type": "execute_result"
    }
   ],
   "source": [
    "net.fit(X_sub, y_sub)"
   ]
  },
  {
   "cell_type": "code",
   "execution_count": 121,
   "metadata": {
    "collapsed": false,
    "deletable": true,
    "editable": true
   },
   "outputs": [
    {
     "data": {
      "image/png": "[encoded data removed]",
      "text/plain": [
       "<matplotlib.figure.Figure at 0x7f4425bf20d0>"
      ]
     },
     "metadata": {},
     "output_type": "display_data"
    }
   ],
   "source": [
    "plot_net(net)"
   ]
  },
  {
   "cell_type": "code",
   "execution_count": 124,
   "metadata": {
    "collapsed": false,
    "deletable": true,
    "editable": true
   },
   "outputs": [],
   "source": [
    "net = NeuralNet(\n",
    "    layers = [\n",
    "        ('input', layers.InputLayer),\n",
    "        ('hidden1', layers.DenseLayer),\n",
    "        ('dropout1', layers.DropoutLayer),\n",
    "        ('hidden2', layers.DenseLayer),\n",
    "        ('dropout2', layers.DropoutLayer),\n",
    "        ('hidden3', layers.DenseLayer),\n",
    "        ('output', layers.DenseLayer)],\n",
    "    input_shape=(None, 14),\n",
    "    hidden1_num_units = 800,\n",
    "    dropout1_p = 0.2,\n",
    "    hidden2_num_units = 1000,\n",
    "    dropout2_p = 0.2,\n",
    "    hidden3_num_units = 200,\n",
    "    output_num_units = 3, output_nonlinearity = lasagne.nonlinearities.softmax,\n",
    "    update=nesterov_momentum,\n",
    "    update_learning_rate=theano.shared(float32(0.1)),\n",
    "    update_momentum=theano.shared(float32(0.9)),\n",
    "    max_epochs = 1000,\n",
    "    verbose = 1,\n",
    "    regression = True,\n",
    "    on_epoch_finished=[\n",
    "            LinearAdjustVariable('update_learning_rate', start=0.1, stop=0.0001),\n",
    "            LinearAdjustVariable('update_momentum', start=0.9, stop=0.999),\n",
    "            EarlyStopping(patience=50),\n",
    "        ],\n",
    "    objective_loss_function = lasagne.objectives.categorical_crossentropy)"
   ]
  },
  {
   "cell_type": "code",
   "execution_count": 125,
   "metadata": {
    "collapsed": false,
    "deletable": true,
    "editable": true
   },
   "outputs": [
    {
     "name": "stdout",
     "output_type": "stream",
     "text": [
      "# Neural Network with 1013803 learnable parameters\n",
      "\n",
      "## Layer information\n",
      "\n",
      "  #  name        size\n",
      "---  --------  ------\n",
      "  0  input         14\n",
      "  1  hidden1      800\n",
      "  2  dropout1     800\n",
      "  3  hidden2     1000\n",
      "  4  dropout2    1000\n",
      "  5  hidden3      200\n",
      "  6  output         3\n",
      "\n",
      "  epoch    trn loss    val loss    trn/val  dur\n",
      "-------  ----------  ----------  ---------  -----\n",
      "      1     \u001b[36m0.91988\u001b[0m     \u001b[32m0.78081\u001b[0m    1.17811  8.92s\n",
      "      2     \u001b[36m0.84029\u001b[0m     0.79001    1.06364  8.81s\n",
      "      3     \u001b[36m0.82578\u001b[0m     0.78166    1.05645  8.67s\n",
      "      4     \u001b[36m0.82202\u001b[0m     0.78406    1.04842  8.66s\n",
      "      5     \u001b[36m0.82071\u001b[0m     0.78322    1.04787  8.66s\n",
      "      6     \u001b[36m0.81926\u001b[0m     0.78339    1.04578  8.71s\n",
      "      7     \u001b[36m0.81863\u001b[0m     0.78342    1.04495  8.67s\n",
      "      8     \u001b[36m0.81686\u001b[0m     0.78304    1.04320  8.67s\n",
      "      9     \u001b[36m0.81616\u001b[0m     0.78225    1.04336  8.66s\n",
      "     10     \u001b[36m0.81440\u001b[0m     0.78130    1.04236  8.65s\n",
      "     11     \u001b[36m0.81257\u001b[0m     0.78098    1.04046  8.66s\n",
      "     12     \u001b[36m0.80948\u001b[0m     \u001b[32m0.78066\u001b[0m    1.03692  8.77s\n",
      "     13     0.81036     0.78545    1.03172  8.69s\n",
      "     14     \u001b[36m0.80589\u001b[0m     0.78909    1.02129  8.71s\n",
      "     15     \u001b[36m0.80532\u001b[0m     0.78458    1.02645  8.73s\n",
      "     16     \u001b[36m0.80510\u001b[0m     0.78741    1.02248  8.69s\n",
      "     17     \u001b[36m0.80462\u001b[0m     \u001b[32m0.77682\u001b[0m    1.03579  8.69s\n",
      "     18     \u001b[36m0.79999\u001b[0m     0.78805    1.01515  8.66s\n",
      "     19     0.80030     0.78770    1.01600  8.67s\n",
      "     20     0.80036     0.78185    1.02368  8.66s\n",
      "     21     \u001b[36m0.79865\u001b[0m     0.78822    1.01324  8.66s\n",
      "     22     0.79982     0.78780    1.01526  8.66s\n",
      "     23     \u001b[36m0.79596\u001b[0m     0.77705    1.02434  8.66s\n",
      "     24     \u001b[36m0.79409\u001b[0m     0.77912    1.01921  8.66s\n",
      "     25     0.79650     0.77887    1.02263  8.66s\n",
      "     26     \u001b[36m0.79246\u001b[0m     0.78062    1.01517  8.66s\n",
      "     27     \u001b[36m0.79246\u001b[0m     0.77775    1.01891  8.70s\n",
      "     28     0.79345     0.78473    1.01111  8.66s\n",
      "     29     0.79805     0.78029    1.02277  8.69s\n",
      "     30     \u001b[36m0.79006\u001b[0m     0.78742    1.00335  8.66s\n",
      "     31     0.79240     0.78187    1.01347  8.66s\n",
      "     32     \u001b[36m0.78811\u001b[0m     0.78135    1.00865  8.67s\n",
      "     33     0.79421     \u001b[32m0.77245\u001b[0m    1.02817  8.89s\n",
      "     34     0.79145     \u001b[32m0.77097\u001b[0m    1.02657  8.95s\n",
      "     35     0.79058     0.77121    1.02512  8.82s\n",
      "     36     0.79168     0.77759    1.01812  8.80s\n",
      "     37     \u001b[36m0.78629\u001b[0m     0.77753    1.01126  8.88s\n",
      "     38     0.79166     0.79277    0.99860  9.23s\n",
      "     39     0.79182     0.78051    1.01449  8.89s\n",
      "     40     0.78826     0.78273    1.00706  8.80s\n",
      "     41     \u001b[36m0.78465\u001b[0m     0.79283    0.98969  8.71s\n",
      "     42     0.79164     0.78124    1.01331  8.69s\n",
      "     43     \u001b[36m0.77923\u001b[0m     0.77409    1.00663  8.81s\n",
      "     44     0.78534     0.78865    0.99580  9.23s\n",
      "     45     0.78928     0.77883    1.01342  9.17s\n",
      "     46     0.78406     0.79106    0.99116  9.28s\n",
      "     47     0.78100     0.79220    0.98587  8.93s\n",
      "     48     0.78385     0.77913    1.00605  8.85s\n",
      "     49     0.78376     0.77777    1.00770  8.91s\n",
      "     50     0.78704     0.77864    1.01079  8.83s\n",
      "     51     \u001b[36m0.77902\u001b[0m     0.78810    0.98848  9.28s\n",
      "     52     \u001b[36m0.77573\u001b[0m     0.78434    0.98902  9.29s\n",
      "     53     0.78628     0.78145    1.00618  9.15s\n",
      "     54     0.78173     0.78632    0.99416  9.15s\n",
      "     55     0.78135     0.79234    0.98613  9.13s\n",
      "     56     0.77664     0.79027    0.98276  9.11s\n",
      "     57     0.77832     0.78645    0.98967  8.93s\n",
      "     58     \u001b[36m0.77381\u001b[0m     0.78507    0.98566  9.01s\n",
      "     59     0.77715     0.79069    0.98287  8.87s\n",
      "     60     0.77882     0.79256    0.98267  9.10s\n",
      "     61     \u001b[36m0.77080\u001b[0m     0.79052    0.97505  9.16s\n",
      "     62     0.77154     0.79106    0.97533  9.55s\n",
      "     63     0.77824     0.78321    0.99366  9.12s\n",
      "     64     0.77392     0.78374    0.98747  9.21s\n",
      "     65     \u001b[36m0.76632\u001b[0m     0.79196    0.96762  9.06s\n",
      "     66     \u001b[36m0.76570\u001b[0m     0.78601    0.97416  8.86s\n",
      "     67     0.76829     0.78921    0.97348  8.93s\n",
      "     68     \u001b[36m0.76358\u001b[0m     0.80053    0.95384  8.92s\n",
      "     69     0.77555     0.78748    0.98485  9.15s\n",
      "     70     0.76673     0.79400    0.96566  8.73s\n",
      "     71     0.76486     0.79528    0.96175  8.78s\n",
      "     72     0.76882     0.79776    0.96372  8.68s\n",
      "     73     0.76410     0.78924    0.96815  8.91s\n",
      "     74     \u001b[36m0.76195\u001b[0m     0.78794    0.96700  8.70s\n",
      "     75     \u001b[36m0.75364\u001b[0m     0.80613    0.93489  8.72s\n",
      "     76     0.76125     0.80204    0.94915  8.83s\n",
      "     77     \u001b[36m0.75300\u001b[0m     0.80080    0.94031  9.20s\n",
      "     78     0.75474     0.79153    0.95352  8.74s\n",
      "     79     0.75703     0.79137    0.95661  8.72s\n",
      "     80     0.76129     0.80045    0.95107  8.87s\n",
      "     81     \u001b[36m0.74619\u001b[0m     0.80683    0.92483  8.68s\n",
      "     82     0.75943     0.80130    0.94775  8.73s\n",
      "     83     0.75368     0.81316    0.92685  9.39s\n",
      "     84     \u001b[36m0.74563\u001b[0m     0.80325    0.92826  9.34s\n",
      "Early stopping.\n",
      "Best valid loss was 0.770969 at epoch 34.\n",
      "Loaded parameters to layer 'hidden1' (shape 14x800).\n",
      "Loaded parameters to layer 'hidden1' (shape 800).\n",
      "Loaded parameters to layer 'hidden2' (shape 800x1000).\n",
      "Loaded parameters to layer 'hidden2' (shape 1000).\n",
      "Loaded parameters to layer 'hidden3' (shape 1000x200).\n",
      "Loaded parameters to layer 'hidden3' (shape 200).\n",
      "Loaded parameters to layer 'output' (shape 200x3).\n",
      "Loaded parameters to layer 'output' (shape 3).\n"
     ]
    },
    {
     "data": {
      "text/plain": [
       "NeuralNet(X_tensor_type=None,\n",
       "     batch_iterator_test=<nolearn.lasagne.base.BatchIterator object at 0x7f443ac19d90>,\n",
       "     batch_iterator_train=<nolearn.lasagne.base.BatchIterator object at 0x7f443ac19c90>,\n",
       "     check_input=True, custom_scores=None, dropout1_p=0.2, dropout2_p=0.2,\n",
       "     hidden1_num_units=800, hidden2_num_units=1000, hidden3_num_units=200,\n",
       "     input_shape=(None, 14),\n",
       "     layers=[('input', <class 'lasagne.layers.input.InputLayer'>), ('hidden1', <class 'lasagne.layers.dense.DenseLayer'>), ('dropout1', <class 'lasagne.layers.noise.DropoutLayer'>), ('hidden2', <class 'lasagne.layers.dense.DenseLayer'>), ('dropout2', <class 'lasagne.layers.noise.DropoutLayer'>), ('hidden3', <class 'lasagne.layers.dense.DenseLayer'>), ('output', <class 'lasagne.layers.dense.DenseLayer'>)],\n",
       "     loss=None, max_epochs=1000, more_params={},\n",
       "     objective=<function objective at 0x7f443ac21848>,\n",
       "     objective_loss_function=<function categorical_crossentropy at 0x7f443bc98410>,\n",
       "     on_batch_finished=[],\n",
       "     on_epoch_finished=[<__main__.LinearAdjustVariable object at 0x7f4425a38590>, <__main__.LinearAdjustVariable object at 0x7f4425a38850>, <__main__.EarlyStopping object at 0x7f4425a38890>, <nolearn.lasagne.handlers.PrintLog instance at 0x7f4425a70368>],\n",
       "     on_training_finished=[],\n",
       "     on_training_started=[<nolearn.lasagne.handlers.PrintLayerInfo instance at 0x7f4425a70e60>],\n",
       "     output_nonlinearity=<function softmax at 0x7f443bdfd848>,\n",
       "     output_num_units=3, regression=True, scores_train=[], scores_valid=[],\n",
       "     train_split=<nolearn.lasagne.base.TrainSplit object at 0x7f443ac19dd0>,\n",
       "     update=<function nesterov_momentum at 0x7f443bcaa140>,\n",
       "     update_learning_rate=<TensorType(float32, scalar)>,\n",
       "     update_momentum=<TensorType(float32, scalar)>,\n",
       "     use_label_encoder=False, verbose=1,\n",
       "     y_tensor_type=TensorType(float64, matrix))"
      ]
     },
     "execution_count": 125,
     "metadata": {},
     "output_type": "execute_result"
    }
   ],
   "source": [
    "net.fit(X_sub, y_sub)"
   ]
  },
  {
   "cell_type": "code",
   "execution_count": 126,
   "metadata": {
    "collapsed": false,
    "deletable": true,
    "editable": true
   },
   "outputs": [
    {
     "data": {
      "image/png": "[encoded data removed]",
      "text/plain": [
       "<matplotlib.figure.Figure at 0x7f44262fc850>"
      ]
     },
     "metadata": {},
     "output_type": "display_data"
    }
   ],
   "source": [
    "plot_net(net)"
   ]
  },
  {
   "cell_type": "code",
   "execution_count": 128,
   "metadata": {
    "collapsed": false,
    "deletable": true,
    "editable": true
   },
   "outputs": [
    {
     "data": {
      "text/plain": [
       "array([ 0.077,  0.671,  0.252], dtype=float32)"
      ]
     },
     "execution_count": 128,
     "metadata": {},
     "output_type": "execute_result"
    }
   ],
   "source": [
    "y_sub.mean(axis = 0)"
   ]
  },
  {
   "cell_type": "code",
   "execution_count": 129,
   "metadata": {
    "collapsed": false,
    "deletable": true,
    "editable": true
   },
   "outputs": [
    {
     "data": {
      "text/plain": [
       "0.81248201429843903"
      ]
     },
     "execution_count": 129,
     "metadata": {},
     "output_type": "execute_result"
    }
   ],
   "source": [
    "-sum(y_sub.mean(axis = 0)*np.log(y_sub.mean(axis = 0)))"
   ]
  },
  {
   "cell_type": "code",
   "execution_count": 130,
   "metadata": {
    "collapsed": false,
    "deletable": true,
    "editable": true
   },
   "outputs": [
    {
     "name": "stdout",
     "output_type": "stream",
     "text": [
      "Object `unlist` not found.\n"
     ]
    }
   ],
   "source": []
  },
  {
   "cell_type": "code",
   "execution_count": null,
   "metadata": {
    "collapsed": false,
    "deletable": true,
    "editable": true
   },
   "outputs": [],
   "source": []
  }
 ],
 "metadata": {
  "kernelspec": {
   "display_name": "Python 2",
   "language": "python",
   "name": "python2"
  },
  "language_info": {
   "codemirror_mode": {
    "name": "ipython",
    "version": 2
   },
   "file_extension": ".py",
   "mimetype": "text/x-python",
   "name": "python",
   "nbconvert_exporter": "python",
   "pygments_lexer": "ipython2",
   "version": "2.7.12"
  }
 },
 "nbformat": 4,
 "nbformat_minor": 0
}
