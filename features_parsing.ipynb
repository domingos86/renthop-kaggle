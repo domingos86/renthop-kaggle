{
 "cells": [
  {
   "cell_type": "code",
   "execution_count": 1,
   "metadata": {
    "collapsed": true,
    "deletable": true,
    "editable": true
   },
   "outputs": [],
   "source": [
    "import pandas as pd\n",
    "import numpy as np\n",
    "import re"
   ]
  },
  {
   "cell_type": "code",
   "execution_count": 2,
   "metadata": {
    "collapsed": true,
    "deletable": true,
    "editable": true
   },
   "outputs": [],
   "source": [
    "FTRAIN = 'data/train.json'\n",
    "FTEST = 'data/test.json'"
   ]
  },
  {
   "cell_type": "code",
   "execution_count": 3,
   "metadata": {
    "collapsed": true,
    "deletable": true,
    "editable": true
   },
   "outputs": [],
   "source": [
    "df_train = pd.read_json(FTRAIN)"
   ]
  },
  {
   "cell_type": "code",
   "execution_count": 4,
   "metadata": {
    "collapsed": true,
    "deletable": true,
    "editable": true
   },
   "outputs": [],
   "source": [
    "df_test = pd.read_json(FTEST)"
   ]
  },
  {
   "cell_type": "code",
   "execution_count": 5,
   "metadata": {
    "collapsed": true,
    "deletable": true,
    "editable": true
   },
   "outputs": [],
   "source": [
    "def get_longest_features(df, num_results = 10):\n",
    "    return feature_counts.loc[feature_counts['name'].apply(len).sort_values(ascending = False).head(num_results).index, :]"
   ]
  },
  {
   "cell_type": "code",
   "execution_count": 6,
   "metadata": {
    "collapsed": true,
    "deletable": true,
    "editable": true
   },
   "outputs": [],
   "source": [
    "def extract_features(feature_parser = lambda x: [x.lower()]):\n",
    "    features = {}\n",
    "    for df in [df_train, df_test]:\n",
    "        for flist in df['features']:\n",
    "            for ft in flist:\n",
    "                for ft_parsed in feature_parser(ft):\n",
    "                    features[ft_parsed] = features.get(ft_parsed, 0) + 1\n",
    "    return pd.DataFrame([[k, v] for k, v in features.iteritems()], columns = ['name', 'counts'])"
   ]
  },
  {
   "cell_type": "code",
   "execution_count": 29,
   "metadata": {
    "collapsed": false,
    "deletable": true,
    "editable": true
   },
   "outputs": [],
   "source": [
    "def subparser(x):\n",
    "    x = x.lower().replace('-', ' ').strip()\n",
    "    if x[0] == '{':\n",
    "        return [y.replace('\"', '').strip() for y in re.findall(r'(?<=\\d\\s=\\s)([^;]+);', x)]\n",
    "    x = x.split(u'\\u2022')\n",
    "    return [z for y in x for z in re.split(r'[\\.\\s!;]!*\\s+|\\s+-\\s+|\\s*\\*\\s*', y)]\n",
    "\n",
    "def parser(x):\n",
    "    return [z for z in [y.strip() for y in subparser(x)] if len(z) > 0]"
   ]
  },
  {
   "cell_type": "code",
   "execution_count": 30,
   "metadata": {
    "collapsed": false,
    "deletable": true,
    "editable": true
   },
   "outputs": [],
   "source": [
    "feature_counts = extract_features(parser)"
   ]
  },
  {
   "cell_type": "code",
   "execution_count": 31,
   "metadata": {
    "collapsed": false,
    "deletable": true,
    "editable": true
   },
   "outputs": [
    {
     "data": {
      "text/plain": [
       "2632"
      ]
     },
     "execution_count": 31,
     "metadata": {},
     "output_type": "execute_result"
    }
   ],
   "source": [
    "len(feature_counts)"
   ]
  },
  {
   "cell_type": "code",
   "execution_count": 32,
   "metadata": {
    "collapsed": false,
    "deletable": true,
    "editable": true
   },
   "outputs": [
    {
     "name": "stdout",
     "output_type": "stream",
     "text": [
      "bike room driveway garage garden fitness facility(fee) spa services pool sauna steam room laundry on each flr valet playroom lounge billiards room rooftop deck common storage wifi access\n",
      "east and west resident lounges reading room outdoor lounges with river views party room chefs kitchen movie screening room tot spot playroom ping pong\n",
      "bike room driveway garage water filtration fitness room pool sauna laundry on each flr housekeeping valet playroom lounge rooftop deck common storage\n",
      "bike room garage garden fitness facility(fee) spa services valet playroom lounge party room rooftop deck private storage wifi access business center\n",
      "residents only fitness center and aerobic room professionally outfitted with a full complement of strength and cardio training equipment\n",
      "and stainless steel appliances with a dishwasher well maintained hardwood floors add to the warmth and modern feel of the space.\n",
      "bike room garage fitness facility laundry room housekeeping valet lounge party room rooftop deck digital tv business center\n",
      "the tenants are leaving a dvd and bookshelf storage unit as well as a beautifully designed dish rack in the apartment.\n",
      "bike room garage water filtration fitness facility laundry room housekeeping valet rooftop deck common storage\n",
      "atrium walkway over lush gardens and fountain attended indoor parking garage complete workout fitness center\n",
      "enjoy inspired service and amenities to cater to your demanding lifestyle and surround you with comfort\n",
      "courtyard garden fitness facility pool sauna steam room playroom lounge common storage business center\n",
      "alarm system bike room courtyard garden fitness facility valet rooftop deck digital tv business center\n",
      "steps from shopping and cafes and 5 minute walk to graham avenue l train (3rd stop from manhattan)\n",
      "double panned sound proof windows /renovated open kitchen marble and stainless steel countertops\n",
      "featuring a sophisticated precor® online profile system that tracks your personal fitness goals\n",
      "bike room garage courtyard fitness room exercise studio laundry room valet lounge rooftop deck\n",
      "bike room garage garden fitness facility laundry room valet lounge rooftop deck common storage\n",
      "live in super package room smoke free storage available virtual doorman guarantors accepted\n",
      "garage fitness facility laundry room valet lounge billiards room rooftop deck wifi access\n",
      "gym fitness lounge swimming pool sun decks exercise studios indoor half basketball court\n",
      "green building live in super package room smoke free storage available virtual doorman\n",
      "billiards and shuffle board game room poker room golf simulator and putting green\n",
      "move in visa giftcard will be handed to new tenants upon rental lease signing\n",
      "this spacious 3 bedroom/2 bath residence also features oak hardwood flooring\n",
      "gourmet open kitchen with granite countertops and stainless steel appliances\n",
      "residents can choose from three high speed internet providers: verizon fios\n",
      "1 block from main avenue for tons of restaurants & stores as well as buses\n",
      "000 square feet of spa and gym facilities including a 75 foot indoor pool\n",
      "expansive rooftop lounge with outdoor terrace boasting spectacular views\n",
      "dishwasherhardwood floors laundry in unitmicrowave private outdoor space\n",
      "three huge windows facing east with unobstructed views over fort greene\n",
      "partially furnished with two (2) air conditioners and microwave unit.\n",
      "gym: state of the art techno gym cardio and weight training equipment\n",
      "premier resident services offered by our friendly and helpful staff\n",
      "exposed brickhardwood floors microwaverenovated open view excellent\n",
      "elegant glass enclosed private lounge with magnificent river views\n",
      "24 hour parking garage with an electric vehicle charging station.\n",
      "and breathtaking views of new york city from our rooftop terrace\n",
      "owner occupied in 3 family building 917 714 1700 or 718 857 4718\n",
      "pre war building near fort tryon park and the cloisters museum.\n",
      "outdoor roof deck overlooking new york harbor and battery park\n",
      "building link notification & key track for tenants convenience\n",
      "no fee specialist harry ego 718.413.8270 hego@citihabitats.com\n",
      "arguably the most well maintained luxury highrise in the city\n",
      "huge private back yard with granite paved exterior patio area\n",
      "000 sf event center with hotel quality facilities & amenities\n",
      "domed ceiling lobby with wood paneled walls and marble floors\n",
      "spacious and sunny 1st floor apartment overlooking the garden\n",
      "state of the art cardiovascular and weight training equipment\n"
     ]
    }
   ],
   "source": [
    "for name in get_longest_features(feature_counts, 50)['name']:\n",
    "    print name"
   ]
  },
  {
   "cell_type": "code",
   "execution_count": 33,
   "metadata": {
    "collapsed": false,
    "deletable": true,
    "editable": true,
    "scrolled": false
   },
   "outputs": [
    {
     "name": "stdout",
     "output_type": "stream",
     "text": [
      "elevator, 65835\n",
      "cats allowed, 59195\n",
      "hardwood floors, 59157\n",
      "dogs allowed, 55208\n",
      "doorman, 52514\n",
      "dishwasher, 52089\n",
      "laundry in building, 47483\n",
      "no fee, 45467\n",
      "fitness center, 33422\n",
      "laundry in unit, 23753\n",
      "pre war, 23125\n",
      "roof deck, 17470\n",
      "outdoor space, 13415\n",
      "dining room, 12848\n",
      "high speed internet, 10667\n",
      "balcony, 7793\n",
      "swimming pool, 7154\n",
      "new construction, 6457\n",
      "terrace, 5707\n",
      "exclusive, 5471\n",
      "loft, 5285\n",
      "garden/patio, 4894\n",
      "prewar, 3433\n",
      "wheelchair access, 3393\n",
      "common outdoor space, 3294\n",
      "hardwood, 2696\n",
      "simplex, 2327\n",
      "fireplace, 2315\n",
      "lowrise, 2026\n",
      "garage, 1892\n",
      "reduced fee, 1817\n",
      "laundry room, 1788\n",
      "furnished, 1674\n",
      "multi level, 1592\n",
      "high ceilings, 1537\n",
      "private outdoor space, 1451\n",
      "live in super, 1174\n",
      "parking space, 1045\n",
      "publicoutdoor, 1020\n",
      "renovated, 821\n",
      "pool, 796\n",
      "on site laundry, 786\n",
      "laundry, 729\n",
      "green building, 606\n",
      "storage, 499\n",
      "high ceiling, 494\n",
      "stainless steel appliances, 467\n",
      "dryer in unit, 426\n",
      "washer in unit, 426\n",
      "concierge, 419\n",
      "newly renovated, 390\n",
      "on site garage, 358\n",
      "washer/dryer, 354\n",
      "light, 349\n",
      "patio, 337\n",
      "exposed brick, 321\n",
      "live in superintendent, 309\n",
      "eat in kitchen, 308\n",
      "gym/fitness, 295\n",
      "granite kitchen, 286\n",
      "bike room, 273\n",
      "pets on approval, 267\n",
      "walk in closet(s), 266\n",
      "garden, 266\n",
      "marble bath, 253\n",
      "valet, 248\n",
      "subway, 242\n",
      "residents lounge, 237\n",
      "full time doorman, 217\n",
      "common parking/garage, 207\n",
      "wifi access, 206\n",
      "parking, 204\n",
      "highrise, 198\n",
      "lounge, 197\n",
      "short term allowed, 187\n",
      "childrens playroom, 181\n",
      "no pets, 181\n",
      "duplex, 171\n",
      "photos, 166\n",
      "actual apt, 165\n",
      "central a/c, 161\n",
      "luxury building, 154\n",
      "gym, 153\n",
      "view, 152\n",
      "common roof deck, 144\n",
      "residents garden, 143\n",
      "private balcony, 140\n",
      "outdoor areas, 136\n",
      "roofdeck, 134\n",
      "post war, 125\n",
      "indoor pool, 121\n",
      "virtual doorman, 108\n",
      "children's playroom, 105\n",
      "live/work, 103\n",
      "building common outdoor space, 101\n",
      "washer & dryer, 94\n",
      "courtyard, 93\n",
      "microwave, 92\n",
      "valet parking, 91\n",
      "sauna, 91\n"
     ]
    }
   ],
   "source": [
    "for ind, row in feature_counts.sort_values(by = 'counts', ascending = False).head(100).iterrows():\n",
    "    print(\"%s, %d\" % (row['name'], row['counts']))"
   ]
  },
  {
   "cell_type": "markdown",
   "metadata": {},
   "source": [
    "Let's select the most frequent features and a regex that attempts to detect all variations of such feature."
   ]
  },
  {
   "cell_type": "code",
   "execution_count": 19,
   "metadata": {
    "collapsed": true,
    "deletable": true,
    "editable": true
   },
   "outputs": [],
   "source": [
    "feature_map = {'elevator': 'elevator',\n",
    "               'cats allowed': r'(?<!\\w)cats?(?!\\w)|(?<!\\w)(?<!no )pets?(?!\\w)',\n",
    "               'dogs allowed': r'(?<!\\w)dogs?(?!\\w)|(?<!\\w)(?<!no )pets?(?!\\w)(?!: cats only)',\n",
    "               'hardwood floors': 'hardwood',\n",
    "               'doorman': r'(?<!virtual )doorman',\n",
    "               'dishwasher': 'dishwasher|dw(?!\\w)',\n",
    "               'laundry': r'laundry(?! is on the blo)',\n",
    "               'no fee': 'no fee',\n",
    "               'fitness center': r'fitness(?! goals)|gym',\n",
    "               'pre war': r'pre\\s?war',\n",
    "               'roof deck': 'roof',\n",
    "               'outdoor space': 'outdoor|garden|patio',\n",
    "               'dining room': 'dining',\n",
    "               'high speed internet': r'high.*internet',\n",
    "               'balcony': r'balcon(y|ies)|private.*terrace',\n",
    "               'terrace': 'terrace',\n",
    "               'swimming pool': r'pool(?! table)',\n",
    "               'new construction': 'new construction',\n",
    "               'exclusive': r'exclusive( rental)?$',\n",
    "               'loft': r'(?<!sleep )loft(?! bed)',\n",
    "               'wheelchair access': 'wheelchair',\n",
    "               'simplex': 'simplex',\n",
    "               'fireplace': ['fireplace(?! storage)', 'deco'], # looks for first regex, excluding matches of the second regex\n",
    "               'lowrise': r'low\\s?rise',\n",
    "               'garage': r'garage|indoor parking',\n",
    "               'reduced fee': r'(reduced|low) fee',\n",
    "               'furnished': ['(?<!un)furni', 'deck|inquire|terrace'],\n",
    "               'multi level': r'multi\\s?level|duplex',\n",
    "               'high ceilings': r'(hig?h|tall) .*ceiling',\n",
    "               'super': r'(live|site).*super',\n",
    "               'parking': r'(?<!street )(?<!side )parking(?! available nearby)',\n",
    "               'renovated': 'renovated',\n",
    "               'green building': 'green building',\n",
    "               'storage': 'storage',\n",
    "               'stainless steel appliances': r'stainless.*(appliance|refrigerator)',\n",
    "               'concierge': 'concierge',\n",
    "               'light': r'(?<!\\w)(sun)?light(?!\\w)',\n",
    "               'exposed brick': 'exposed brick',\n",
    "               'eat in kitchen': r'eat.*kitchen',\n",
    "               'granite kitchen': 'granite kitchen',\n",
    "               'bike room': r'(?<!citi)(?<!citi )bike',\n",
    "               'walk in closet': r'walk.*closet',\n",
    "               'marble bath': r'marble.*bath',\n",
    "               'valet': 'valet',\n",
    "               'subway': r'subway|trains?(?!\\w)',\n",
    "               'lounge': 'lounge',\n",
    "               'short term allowed': 'short term',\n",
    "               'children\\'s playroom': r'(child|kid).*room',\n",
    "               'no pets': 'no pets',\n",
    "               'central a/c': r'central a|ac central',\n",
    "               'luxury building': 'luxur',\n",
    "               'view': r'(?<!\\w)views?(?!\\w)|skyline',\n",
    "               'virtual doorman': 'virtual d',\n",
    "               'courtyard': 'courtyard',\n",
    "               'microwave': 'microwave|mw',\n",
    "               'sauna': 'sauna'}"
   ]
  },
  {
   "cell_type": "code",
   "execution_count": 141,
   "metadata": {
    "collapsed": false,
    "deletable": true,
    "editable": true,
    "scrolled": false
   },
   "outputs": [],
   "source": [
    "def search_regex(regexes):\n",
    "    if isinstance(regexes, basestring):\n",
    "        filter_fun = lambda x: re.search(regexes, x) is not None\n",
    "    else:\n",
    "        filter_fun = lambda x: re.search(regexes[0], x) is not None and re.search(regexes[1], x) is None\n",
    "    for ind, row in feature_counts[feature_counts['name'].apply(filter_fun)].iterrows():\n",
    "        print(\"%s, %d\" % (row['name'], row['counts']))"
   ]
  },
  {
   "cell_type": "code",
   "execution_count": 181,
   "metadata": {
    "collapsed": false
   },
   "outputs": [
    {
     "name": "stdout",
     "output_type": "stream",
     "text": [
      "sprawling sunfilled 2br w/private terrace, 1\n",
      "live in superintendent terraces / balconies, 1\n",
      "private terrace & scenic roof deck, 1\n",
      "expansive rooftop lounge with outdoor terrace boasting spectacular views, 1\n",
      "wrap around terrace, 1\n",
      "2 private terrace, 1\n",
      "sprawling 2br w/terrace, 1\n",
      "xl terrace, 1\n",
      "two private terrace, 1\n",
      "private rooftop terrace, 1\n",
      "huge terrace, 1\n",
      "oversize terrace, 1\n",
      "an expansive landscaped terrace and sun deck, 3\n",
      "massive private terrace, 1\n",
      "terrace, 5707\n",
      "landscaped terrace with bbq grill, 2\n",
      "furnished wrap around terrace, 2\n",
      "huge rear terrace, 1\n",
      "large private terrace, 1\n",
      "expansive 2br w/1000 sq ft terrace, 1\n",
      "scenic private terrace, 2\n",
      "huge private terrace, 2\n",
      "furnished sun terrace water filtration, 1\n",
      "massive 2br home w/ xl terrace, 1\n",
      "terraces / balconies, 26\n",
      "/terrace/ washer dryer/ closet space!!!, 1\n",
      "private large terrace, 1\n",
      "2 private terraces, 1\n",
      "outdoor terrace, 6\n",
      "outdoor grilling terrace, 3\n",
      "rooftop terrace, 41\n",
      "an outdoor entertaining terrace, 1\n",
      "landscaped terrace complete with an organic garden, 2\n",
      "balcony/terrace, 2\n",
      "stunning 3 bedroom apartment with a terrace, 1\n",
      "xlarge private terrace, 1\n",
      "private scenic terrace, 2\n",
      "common terrace, 58\n",
      "huge scenic terrace, 1\n",
      "massive private terrace., 1\n",
      "and breathtaking views of new york city from our rooftop terrace, 1\n",
      "massive 1br w/private terrace, 1\n",
      "private terrace, 59\n",
      "massive 2br w/terrace, 1\n"
     ]
    }
   ],
   "source": [
    "search_regex(r'terrace')"
   ]
  },
  {
   "cell_type": "code",
   "execution_count": 33,
   "metadata": {
    "collapsed": false,
    "deletable": true,
    "editable": true
   },
   "outputs": [
    {
     "data": {
      "text/plain": [
       "u'Elevator # Laundry In Building # ELEVATOR/LAUNDRY/ SO CLOSE TO THE 6 $2450!!'"
      ]
     },
     "execution_count": 33,
     "metadata": {},
     "output_type": "execute_result"
    }
   ],
   "source": [
    "' # '.join([a for b in df_train[df_train['features'].apply(lambda y: np.any([re.search('elevator/laundry', x.lower()) is not None for x in y]))]['features'] for a in b])"
   ]
  },
  {
   "cell_type": "code",
   "execution_count": 32,
   "metadata": {
    "collapsed": false,
    "deletable": true,
    "editable": true
   },
   "outputs": [
    {
     "data": {
      "text/html": [
       "<div>\n",
       "<table border=\"1\" class=\"dataframe\">\n",
       "  <thead>\n",
       "    <tr style=\"text-align: right;\">\n",
       "      <th></th>\n",
       "      <th>bathrooms</th>\n",
       "      <th>bedrooms</th>\n",
       "      <th>building_id</th>\n",
       "      <th>created</th>\n",
       "      <th>description</th>\n",
       "      <th>display_address</th>\n",
       "      <th>features</th>\n",
       "      <th>interest_level</th>\n",
       "      <th>latitude</th>\n",
       "      <th>listing_id</th>\n",
       "      <th>longitude</th>\n",
       "      <th>manager_id</th>\n",
       "      <th>photos</th>\n",
       "      <th>price</th>\n",
       "      <th>street_address</th>\n",
       "    </tr>\n",
       "  </thead>\n",
       "  <tbody>\n",
       "    <tr>\n",
       "      <th>8633</th>\n",
       "      <td>1.0</td>\n",
       "      <td>1</td>\n",
       "      <td>0</td>\n",
       "      <td>2016-06-22 14:10:24</td>\n",
       "      <td>GREAT LOCATION ON THIS TRUE 1 BEDROOM IN MURRA...</td>\n",
       "      <td></td>\n",
       "      <td>[Elevator, Laundry In Building, ELEVATOR/LAUND...</td>\n",
       "      <td>low</td>\n",
       "      <td>40.7128</td>\n",
       "      <td>7201950</td>\n",
       "      <td>-74.0059</td>\n",
       "      <td>a4a468c229a6094d3811489361d08819</td>\n",
       "      <td>[https://photos.renthop.com/2/7201950_2d04c9c0...</td>\n",
       "      <td>2450</td>\n",
       "      <td></td>\n",
       "    </tr>\n",
       "  </tbody>\n",
       "</table>\n",
       "</div>"
      ],
      "text/plain": [
       "      bathrooms  bedrooms building_id              created  \\\n",
       "8633        1.0         1           0  2016-06-22 14:10:24   \n",
       "\n",
       "                                            description display_address  \\\n",
       "8633  GREAT LOCATION ON THIS TRUE 1 BEDROOM IN MURRA...                   \n",
       "\n",
       "                                               features interest_level  \\\n",
       "8633  [Elevator, Laundry In Building, ELEVATOR/LAUND...            low   \n",
       "\n",
       "      latitude  listing_id  longitude                        manager_id  \\\n",
       "8633   40.7128     7201950   -74.0059  a4a468c229a6094d3811489361d08819   \n",
       "\n",
       "                                                 photos  price street_address  \n",
       "8633  [https://photos.renthop.com/2/7201950_2d04c9c0...   2450                 "
      ]
     },
     "execution_count": 32,
     "metadata": {},
     "output_type": "execute_result"
    }
   ],
   "source": [
    "df_train[df_train['features'].apply(lambda y: np.any([re.search('elevator/laundry', x.lower()) is not None for x in y]))]"
   ]
  },
  {
   "cell_type": "code",
   "execution_count": null,
   "metadata": {
    "collapsed": true,
    "deletable": true,
    "editable": true
   },
   "outputs": [],
   "source": []
  }
 ],
 "metadata": {
  "celltoolbar": "Raw Cell Format",
  "kernelspec": {
   "display_name": "Python 2",
   "language": "python",
   "name": "python2"
  },
  "language_info": {
   "codemirror_mode": {
    "name": "ipython",
    "version": 2
   },
   "file_extension": ".py",
   "mimetype": "text/x-python",
   "name": "python",
   "nbconvert_exporter": "python",
   "pygments_lexer": "ipython2",
   "version": "2.7.12"
  }
 },
 "nbformat": 4,
 "nbformat_minor": 2
}
