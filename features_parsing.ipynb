{
 "cells": [
  {
   "cell_type": "code",
   "execution_count": 1,
   "metadata": {
    "collapsed": true,
    "deletable": true,
    "editable": true
   },
   "outputs": [],
   "source": [
    "import pandas as pd\n",
    "import numpy as np\n",
    "import re"
   ]
  },
  {
   "cell_type": "code",
   "execution_count": 2,
   "metadata": {
    "collapsed": true,
    "deletable": true,
    "editable": true
   },
   "outputs": [],
   "source": [
    "FTRAIN = 'data/train.json'\n",
    "FTEST = 'data/test.json'"
   ]
  },
  {
   "cell_type": "code",
   "execution_count": 3,
   "metadata": {
    "collapsed": true,
    "deletable": true,
    "editable": true
   },
   "outputs": [],
   "source": [
    "df_train = pd.read_json(FTRAIN)"
   ]
  },
  {
   "cell_type": "code",
   "execution_count": 4,
   "metadata": {
    "collapsed": true,
    "deletable": true,
    "editable": true
   },
   "outputs": [],
   "source": [
    "df_test = pd.read_json(FTEST)"
   ]
  },
  {
   "cell_type": "code",
   "execution_count": 5,
   "metadata": {
    "collapsed": true,
    "deletable": true,
    "editable": true
   },
   "outputs": [],
   "source": [
    "def get_longest_features(df, num_results = 10):\n",
    "    return feature_counts.loc[feature_counts['name'].apply(len).sort_values(ascending = False).head(num_results).index, :]"
   ]
  },
  {
   "cell_type": "code",
   "execution_count": 6,
   "metadata": {
    "collapsed": true,
    "deletable": true,
    "editable": true
   },
   "outputs": [],
   "source": [
    "def extract_features(feature_parser = lambda x: [x.lower()]):\n",
    "    features = {}\n",
    "    for df in [df_train, df_test]:\n",
    "        for flist in df['features']:\n",
    "            for ft in flist:\n",
    "                for ft_parsed in feature_parser(ft):\n",
    "                    features[ft_parsed] = features.get(ft_parsed, 0) + 1\n",
    "    return pd.DataFrame([[k, v] for k, v in features.iteritems()], columns = ['name', 'counts'])"
   ]
  },
  {
   "cell_type": "code",
   "execution_count": 7,
   "metadata": {
    "collapsed": false,
    "deletable": true,
    "editable": true
   },
   "outputs": [],
   "source": [
    "def subparser(x):\n",
    "    x = x.lower().replace('-', ' ').strip()\n",
    "    if x[0] == '{':\n",
    "        return [y.replace('\"', '').strip() for y in re.findall(r'(?<=\\d\\s=\\s)([^;]+);', x)]\n",
    "    x = x.split(u'\\u2022')\n",
    "    return [z for y in x for z in re.split(r'[\\.\\s!]!*\\s+|\\s+-\\s+|\\s*\\*\\s*', y)]\n",
    "\n",
    "def parser(x):\n",
    "    return [z for z in [y.strip() for y in subparser(x)] if len(z) > 0]"
   ]
  },
  {
   "cell_type": "code",
   "execution_count": 8,
   "metadata": {
    "collapsed": false,
    "deletable": true,
    "editable": true
   },
   "outputs": [],
   "source": [
    "feature_counts = extract_features(parser)"
   ]
  },
  {
   "cell_type": "code",
   "execution_count": 9,
   "metadata": {
    "collapsed": false,
    "deletable": true,
    "editable": true
   },
   "outputs": [
    {
     "data": {
      "text/plain": [
       "2634"
      ]
     },
     "execution_count": 9,
     "metadata": {},
     "output_type": "execute_result"
    }
   ],
   "source": [
    "len(feature_counts)"
   ]
  },
  {
   "cell_type": "code",
   "execution_count": 10,
   "metadata": {
    "collapsed": false,
    "deletable": true,
    "editable": true
   },
   "outputs": [
    {
     "name": "stdout",
     "output_type": "stream",
     "text": [
      "bike room driveway garage garden fitness facility(fee) spa services pool sauna steam room laundry on each flr valet playroom lounge billiards room rooftop deck common storage wifi access\n",
      "east and west resident lounges reading room outdoor lounges with river views party room chefs kitchen movie screening room tot spot playroom ping pong\n",
      "bike room driveway garage water filtration fitness room pool sauna laundry on each flr housekeeping valet playroom lounge rooftop deck common storage\n",
      "bike room garage garden fitness facility(fee) spa services valet playroom lounge party room rooftop deck private storage wifi access business center\n",
      "residents only fitness center and aerobic room professionally outfitted with a full complement of strength and cardio training equipment\n",
      "and stainless steel appliances with a dishwasher well maintained hardwood floors add to the warmth and modern feel of the space.\n",
      "bike room garage fitness facility laundry room housekeeping valet lounge party room rooftop deck digital tv business center\n",
      "the tenants are leaving a dvd and bookshelf storage unit as well as a beautifully designed dish rack in the apartment.\n",
      "bike room garage water filtration fitness facility laundry room housekeeping valet rooftop deck common storage\n",
      "atrium walkway over lush gardens and fountain attended indoor parking garage complete workout fitness center\n",
      "enjoy inspired service and amenities to cater to your demanding lifestyle and surround you with comfort\n",
      "alarm system bike room courtyard garden fitness facility valet rooftop deck digital tv business center\n",
      "courtyard garden fitness facility pool sauna steam room playroom lounge common storage business center\n",
      "steps from shopping and cafes and 5 minute walk to graham avenue l train (3rd stop from manhattan)\n",
      "double panned sound proof windows /renovated open kitchen marble and stainless steel countertops\n",
      "featuring a sophisticated precor® online profile system that tracks your personal fitness goals\n",
      "bike room garage garden fitness facility laundry room valet lounge rooftop deck common storage\n",
      "bike room garage courtyard fitness room exercise studio laundry room valet lounge rooftop deck\n",
      "live in super package room smoke free storage available virtual doorman guarantors accepted\n",
      "garage fitness facility laundry room valet lounge billiards room rooftop deck wifi access\n",
      "gym fitness lounge swimming pool sun decks exercise studios indoor half basketball court\n",
      "green building live in super package room smoke free storage available virtual doorman\n",
      "billiards and shuffle board game room poker room golf simulator and putting green\n",
      "move in visa giftcard will be handed to new tenants upon rental lease signing\n",
      "this spacious 3 bedroom/2 bath residence also features oak hardwood flooring\n",
      "gourmet open kitchen with granite countertops and stainless steel appliances\n",
      "residents can choose from three high speed internet providers: verizon fios\n",
      "1 block from main avenue for tons of restaurants & stores as well as buses\n",
      "000 square feet of spa and gym facilities including a 75 foot indoor pool\n",
      "expansive rooftop lounge with outdoor terrace boasting spectacular views\n",
      "dishwasherhardwood floors laundry in unitmicrowave private outdoor space\n",
      "three huge windows facing east with unobstructed views over fort greene\n",
      "partially furnished with two (2) air conditioners and microwave unit.\n",
      "gym: state of the art techno gym cardio and weight training equipment\n",
      "premier resident services offered by our friendly and helpful staff\n",
      "exposed brickhardwood floors microwaverenovated open view excellent\n",
      "elegant glass enclosed private lounge with magnificent river views\n",
      "24 hour parking garage with an electric vehicle charging station.\n",
      "owner occupied in 3 family building 917 714 1700 or 718 857 4718\n",
      "and breathtaking views of new york city from our rooftop terrace\n",
      "pre war building near fort tryon park and the cloisters museum.\n",
      "no fee specialist harry ego 718.413.8270 hego@citihabitats.com\n",
      "building link notification & key track for tenants convenience\n",
      "outdoor roof deck overlooking new york harbor and battery park\n",
      "spacious and sunny 1st floor apartment overlooking the garden\n",
      "huge private back yard with granite paved exterior patio area\n",
      "double height lobby french limestone and rojo alicante marble\n",
      "domed ceiling lobby with wood paneled walls and marble floors\n",
      "telephonic intercom system/multiple phone lines per residence\n",
      "arguably the most well maintained luxury highrise in the city\n"
     ]
    }
   ],
   "source": [
    "for name in get_longest_features(feature_counts, 50)['name']:\n",
    "    print name"
   ]
  },
  {
   "cell_type": "code",
   "execution_count": 18,
   "metadata": {
    "collapsed": false,
    "scrolled": false
   },
   "outputs": [
    {
     "name": "stdout",
     "output_type": "stream",
     "text": [
      "elevator, 65835\n",
      "cats allowed, 59195\n",
      "hardwood floors, 59157\n",
      "dogs allowed, 55208\n",
      "doorman, 52514\n",
      "dishwasher, 52086\n",
      "laundry in building, 47483\n",
      "no fee, 45467\n",
      "fitness center, 33422\n",
      "laundry in unit, 23753\n",
      "pre war, 23125\n",
      "roof deck, 17470\n",
      "outdoor space, 13415\n",
      "dining room, 12848\n",
      "high speed internet, 10667\n",
      "balcony, 7793\n",
      "swimming pool, 7154\n",
      "new construction, 6457\n",
      "terrace, 5707\n",
      "exclusive, 5471\n",
      "loft, 5285\n",
      "garden/patio, 4894\n",
      "prewar, 3433\n",
      "wheelchair access, 3393\n",
      "common outdoor space, 3294\n",
      "hardwood, 2696\n",
      "simplex, 2327\n",
      "fireplace, 2315\n",
      "lowrise, 2026\n",
      "garage, 1892\n",
      "reduced fee, 1817\n",
      "laundry room, 1788\n",
      "furnished, 1674\n",
      "multi level, 1592\n",
      "high ceilings, 1537\n",
      "private outdoor space, 1451\n",
      "live in super, 1174\n",
      "parking space, 1045\n",
      "publicoutdoor, 1020\n",
      "renovated, 820\n",
      "pool, 796\n",
      "on site laundry, 786\n",
      "laundry, 729\n",
      "green building, 606\n",
      "storage, 499\n",
      "high ceiling, 494\n",
      "stainless steel appliances, 467\n",
      "dryer in unit, 426\n",
      "washer in unit, 426\n",
      "concierge, 419\n",
      "newly renovated, 390\n",
      "on site garage, 358\n",
      "washer/dryer, 354\n",
      "light, 349\n",
      "patio, 337\n",
      "exposed brick, 321\n",
      "live in superintendent, 309\n",
      "eat in kitchen, 308\n",
      "gym/fitness, 295\n",
      "granite kitchen, 286\n",
      "bike room, 273\n",
      "pets on approval, 267\n",
      "garden, 266\n",
      "walk in closet(s), 266\n",
      "marble bath, 253\n",
      "valet, 248\n",
      "subway, 242\n",
      "residents lounge, 237\n",
      "full time doorman, 217\n",
      "common parking/garage, 207\n",
      "wifi access, 206\n",
      "parking, 204\n",
      "highrise, 198\n",
      "lounge, 197\n",
      "short term allowed, 187\n",
      "no pets, 181\n",
      "childrens playroom, 181\n",
      "duplex, 171\n",
      "photos, 166\n",
      "actual apt, 165\n",
      "central a/c, 161\n",
      "luxury building, 154\n",
      "gym, 153\n",
      "view, 152\n",
      "common roof deck, 144\n",
      "residents garden, 143\n",
      "private balcony, 140\n",
      "outdoor areas, 136\n",
      "roofdeck, 134\n",
      "post war, 125\n",
      "indoor pool, 121\n",
      "virtual doorman, 108\n",
      "children's playroom, 105\n",
      "live/work, 103\n",
      "building common outdoor space, 101\n",
      "washer & dryer, 94\n",
      "courtyard, 93\n",
      "microwave, 92\n",
      "sauna, 91\n",
      "valet parking, 91\n"
     ]
    }
   ],
   "source": [
    "for ind, row in feature_counts.sort_values(by = 'counts', ascending = False).head(100).iterrows():\n",
    "    print(\"%s, %d\" % (row['name'], row['counts']))"
   ]
  },
  {
   "cell_type": "code",
   "execution_count": 19,
   "metadata": {
    "collapsed": true
   },
   "outputs": [],
   "source": [
    "feature_map = {}"
   ]
  },
  {
   "cell_type": "code",
   "execution_count": 20,
   "metadata": {
    "collapsed": false
   },
   "outputs": [
    {
     "data": {
      "text/html": [
       "<div>\n",
       "<table border=\"1\" class=\"dataframe\">\n",
       "  <thead>\n",
       "    <tr style=\"text-align: right;\">\n",
       "      <th></th>\n",
       "      <th>name</th>\n",
       "      <th>counts</th>\n",
       "    </tr>\n",
       "  </thead>\n",
       "  <tbody>\n",
       "    <tr>\n",
       "      <th>260</th>\n",
       "      <td>elevator</td>\n",
       "      <td>65835</td>\n",
       "    </tr>\n",
       "  </tbody>\n",
       "</table>\n",
       "</div>"
      ],
      "text/plain": [
       "         name  counts\n",
       "260  elevator   65835"
      ]
     },
     "execution_count": 20,
     "metadata": {},
     "output_type": "execute_result"
    }
   ],
   "source": [
    "feature_counts[feature_counts['counts'] == feature_counts['counts'].max()]"
   ]
  },
  {
   "cell_type": "code",
   "execution_count": 23,
   "metadata": {
    "collapsed": false
   },
   "outputs": [
    {
     "data": {
      "text/html": [
       "<div>\n",
       "<table border=\"1\" class=\"dataframe\">\n",
       "  <thead>\n",
       "    <tr style=\"text-align: right;\">\n",
       "      <th></th>\n",
       "      <th>name</th>\n",
       "      <th>counts</th>\n",
       "    </tr>\n",
       "  </thead>\n",
       "  <tbody>\n",
       "    <tr>\n",
       "      <th>260</th>\n",
       "      <td>elevator</td>\n",
       "      <td>65835</td>\n",
       "    </tr>\n",
       "    <tr>\n",
       "      <th>685</th>\n",
       "      <td>elevator mid rise</td>\n",
       "      <td>1</td>\n",
       "    </tr>\n",
       "    <tr>\n",
       "      <th>1865</th>\n",
       "      <td>elevator &amp; laundry</td>\n",
       "      <td>5</td>\n",
       "    </tr>\n",
       "    <tr>\n",
       "      <th>2115</th>\n",
       "      <td>elevator/laundry/ so close to the 6 $2450!!</td>\n",
       "      <td>1</td>\n",
       "    </tr>\n",
       "    <tr>\n",
       "      <th>2117</th>\n",
       "      <td>keyed elevator with direct access into your li...</td>\n",
       "      <td>1</td>\n",
       "    </tr>\n",
       "    <tr>\n",
       "      <th>2248</th>\n",
       "      <td>private elevator</td>\n",
       "      <td>1</td>\n",
       "    </tr>\n",
       "    <tr>\n",
       "      <th>2251</th>\n",
       "      <td>elevator building</td>\n",
       "      <td>4</td>\n",
       "    </tr>\n",
       "    <tr>\n",
       "      <th>2510</th>\n",
       "      <td>high speed elevator</td>\n",
       "      <td>2</td>\n",
       "    </tr>\n",
       "  </tbody>\n",
       "</table>\n",
       "</div>"
      ],
      "text/plain": [
       "                                                   name  counts\n",
       "260                                            elevator   65835\n",
       "685                                   elevator mid rise       1\n",
       "1865                                 elevator & laundry       5\n",
       "2115        elevator/laundry/ so close to the 6 $2450!!       1\n",
       "2117  keyed elevator with direct access into your li...       1\n",
       "2248                                   private elevator       1\n",
       "2251                                  elevator building       4\n",
       "2510                                high speed elevator       2"
      ]
     },
     "execution_count": 23,
     "metadata": {},
     "output_type": "execute_result"
    }
   ],
   "source": [
    "feature_counts[feature_counts['name'].apply(lambda x: re.search('elevator', x) is not None)]"
   ]
  },
  {
   "cell_type": "code",
   "execution_count": 33,
   "metadata": {
    "collapsed": false
   },
   "outputs": [
    {
     "data": {
      "text/plain": [
       "u'Elevator # Laundry In Building # ELEVATOR/LAUNDRY/ SO CLOSE TO THE 6 $2450!!'"
      ]
     },
     "execution_count": 33,
     "metadata": {},
     "output_type": "execute_result"
    }
   ],
   "source": [
    "' # '.join([a for b in df_train[df_train['features'].apply(lambda y: np.any([re.search('elevator/laundry', x.lower()) is not None for x in y]))]['features'] for a in b])"
   ]
  },
  {
   "cell_type": "code",
   "execution_count": 32,
   "metadata": {
    "collapsed": false
   },
   "outputs": [
    {
     "data": {
      "text/html": [
       "<div>\n",
       "<table border=\"1\" class=\"dataframe\">\n",
       "  <thead>\n",
       "    <tr style=\"text-align: right;\">\n",
       "      <th></th>\n",
       "      <th>bathrooms</th>\n",
       "      <th>bedrooms</th>\n",
       "      <th>building_id</th>\n",
       "      <th>created</th>\n",
       "      <th>description</th>\n",
       "      <th>display_address</th>\n",
       "      <th>features</th>\n",
       "      <th>interest_level</th>\n",
       "      <th>latitude</th>\n",
       "      <th>listing_id</th>\n",
       "      <th>longitude</th>\n",
       "      <th>manager_id</th>\n",
       "      <th>photos</th>\n",
       "      <th>price</th>\n",
       "      <th>street_address</th>\n",
       "    </tr>\n",
       "  </thead>\n",
       "  <tbody>\n",
       "    <tr>\n",
       "      <th>8633</th>\n",
       "      <td>1.0</td>\n",
       "      <td>1</td>\n",
       "      <td>0</td>\n",
       "      <td>2016-06-22 14:10:24</td>\n",
       "      <td>GREAT LOCATION ON THIS TRUE 1 BEDROOM IN MURRA...</td>\n",
       "      <td></td>\n",
       "      <td>[Elevator, Laundry In Building, ELEVATOR/LAUND...</td>\n",
       "      <td>low</td>\n",
       "      <td>40.7128</td>\n",
       "      <td>7201950</td>\n",
       "      <td>-74.0059</td>\n",
       "      <td>a4a468c229a6094d3811489361d08819</td>\n",
       "      <td>[https://photos.renthop.com/2/7201950_2d04c9c0...</td>\n",
       "      <td>2450</td>\n",
       "      <td></td>\n",
       "    </tr>\n",
       "  </tbody>\n",
       "</table>\n",
       "</div>"
      ],
      "text/plain": [
       "      bathrooms  bedrooms building_id              created  \\\n",
       "8633        1.0         1           0  2016-06-22 14:10:24   \n",
       "\n",
       "                                            description display_address  \\\n",
       "8633  GREAT LOCATION ON THIS TRUE 1 BEDROOM IN MURRA...                   \n",
       "\n",
       "                                               features interest_level  \\\n",
       "8633  [Elevator, Laundry In Building, ELEVATOR/LAUND...            low   \n",
       "\n",
       "      latitude  listing_id  longitude                        manager_id  \\\n",
       "8633   40.7128     7201950   -74.0059  a4a468c229a6094d3811489361d08819   \n",
       "\n",
       "                                                 photos  price street_address  \n",
       "8633  [https://photos.renthop.com/2/7201950_2d04c9c0...   2450                 "
      ]
     },
     "execution_count": 32,
     "metadata": {},
     "output_type": "execute_result"
    }
   ],
   "source": [
    "df_train[df_train['features'].apply(lambda y: np.any([re.search('elevator/laundry', x.lower()) is not None for x in y]))]"
   ]
  },
  {
   "cell_type": "code",
   "execution_count": null,
   "metadata": {
    "collapsed": true
   },
   "outputs": [],
   "source": []
  }
 ],
 "metadata": {
  "kernelspec": {
   "display_name": "Python 2",
   "language": "python",
   "name": "python2"
  },
  "language_info": {
   "codemirror_mode": {
    "name": "ipython",
    "version": 2
   },
   "file_extension": ".py",
   "mimetype": "text/x-python",
   "name": "python",
   "nbconvert_exporter": "python",
   "pygments_lexer": "ipython2",
   "version": "2.7.12"
  }
 },
 "nbformat": 4,
 "nbformat_minor": 2
}
