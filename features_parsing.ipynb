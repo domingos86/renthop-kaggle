{
 "cells": [
  {
   "cell_type": "code",
   "execution_count": 1,
   "metadata": {
    "collapsed": true
   },
   "outputs": [],
   "source": [
    "import pandas as pd\n",
    "import numpy as np\n",
    "import re"
   ]
  },
  {
   "cell_type": "code",
   "execution_count": 2,
   "metadata": {
    "collapsed": true
   },
   "outputs": [],
   "source": [
    "FTRAIN = 'data/train.json'\n",
    "FTEST = 'data/test.json'"
   ]
  },
  {
   "cell_type": "code",
   "execution_count": 3,
   "metadata": {
    "collapsed": true
   },
   "outputs": [],
   "source": [
    "df_train = pd.read_json(FTRAIN)"
   ]
  },
  {
   "cell_type": "code",
   "execution_count": 4,
   "metadata": {
    "collapsed": true
   },
   "outputs": [],
   "source": [
    "df_test = pd.read_json(FTEST)"
   ]
  },
  {
   "cell_type": "code",
   "execution_count": 5,
   "metadata": {
    "collapsed": true
   },
   "outputs": [],
   "source": [
    "def get_longest_features(df, num_results = 10):\n",
    "    return feature_counts.loc[feature_counts['name'].apply(len).sort_values(ascending = False).head(num_results).index, :]"
   ]
  },
  {
   "cell_type": "code",
   "execution_count": 6,
   "metadata": {
    "collapsed": true
   },
   "outputs": [],
   "source": [
    "def extract_features(feature_parser = lambda x: [x.lower()]):\n",
    "    features = {}\n",
    "    for df in [df_train, df_test]:\n",
    "        for flist in df['features']:\n",
    "            for ft in flist:\n",
    "                for ft_parsed in feature_parser(ft):\n",
    "                    features[ft_parsed] = features.get(ft_parsed, 0) + 1\n",
    "    return pd.DataFrame([[k, v] for k, v in features.iteritems()], columns = ['name', 'counts'])"
   ]
  },
  {
   "cell_type": "code",
   "execution_count": 7,
   "metadata": {
    "collapsed": false
   },
   "outputs": [],
   "source": [
    "def subparser(x):\n",
    "    x = x.lower().replace('-', ' ').strip()\n",
    "    if x[0] == '{':\n",
    "        return [y.replace('\"', '').strip() for y in re.findall(r'(?<=\\d\\s=\\s)([^;]+);', x)]\n",
    "    x = x.split(u'\\u2022')\n",
    "    return [z for y in x for z in re.split(r'[\\.\\s!]!*\\s+|\\s+-\\s+|\\s*\\*\\s*', y)]\n",
    "\n",
    "def parser(x):\n",
    "    return [z for z in [y.strip() for y in subparser(x)] if len(z) > 0]"
   ]
  },
  {
   "cell_type": "code",
   "execution_count": 8,
   "metadata": {
    "collapsed": false
   },
   "outputs": [],
   "source": [
    "feature_counts = extract_features(parser)"
   ]
  },
  {
   "cell_type": "code",
   "execution_count": 9,
   "metadata": {
    "collapsed": false
   },
   "outputs": [
    {
     "data": {
      "text/plain": [
       "2634"
      ]
     },
     "execution_count": 9,
     "metadata": {},
     "output_type": "execute_result"
    }
   ],
   "source": [
    "len(feature_counts)"
   ]
  },
  {
   "cell_type": "code",
   "execution_count": 10,
   "metadata": {
    "collapsed": false
   },
   "outputs": [
    {
     "name": "stdout",
     "output_type": "stream",
     "text": [
      "bike room driveway garage garden fitness facility(fee) spa services pool sauna steam room laundry on each flr valet playroom lounge billiards room rooftop deck common storage wifi access\n",
      "east and west resident lounges reading room outdoor lounges with river views party room chefs kitchen movie screening room tot spot playroom ping pong\n",
      "bike room driveway garage water filtration fitness room pool sauna laundry on each flr housekeeping valet playroom lounge rooftop deck common storage\n",
      "bike room garage garden fitness facility(fee) spa services valet playroom lounge party room rooftop deck private storage wifi access business center\n",
      "residents only fitness center and aerobic room professionally outfitted with a full complement of strength and cardio training equipment\n",
      "and stainless steel appliances with a dishwasher well maintained hardwood floors add to the warmth and modern feel of the space.\n",
      "bike room garage fitness facility laundry room housekeeping valet lounge party room rooftop deck digital tv business center\n",
      "the tenants are leaving a dvd and bookshelf storage unit as well as a beautifully designed dish rack in the apartment.\n",
      "bike room garage water filtration fitness facility laundry room housekeeping valet rooftop deck common storage\n",
      "atrium walkway over lush gardens and fountain attended indoor parking garage complete workout fitness center\n",
      "enjoy inspired service and amenities to cater to your demanding lifestyle and surround you with comfort\n",
      "alarm system bike room courtyard garden fitness facility valet rooftop deck digital tv business center\n",
      "courtyard garden fitness facility pool sauna steam room playroom lounge common storage business center\n",
      "steps from shopping and cafes and 5 minute walk to graham avenue l train (3rd stop from manhattan)\n",
      "double panned sound proof windows /renovated open kitchen marble and stainless steel countertops\n",
      "featuring a sophisticated precor® online profile system that tracks your personal fitness goals\n",
      "bike room garage garden fitness facility laundry room valet lounge rooftop deck common storage\n",
      "bike room garage courtyard fitness room exercise studio laundry room valet lounge rooftop deck\n",
      "live in super package room smoke free storage available virtual doorman guarantors accepted\n",
      "garage fitness facility laundry room valet lounge billiards room rooftop deck wifi access\n",
      "gym fitness lounge swimming pool sun decks exercise studios indoor half basketball court\n",
      "green building live in super package room smoke free storage available virtual doorman\n",
      "billiards and shuffle board game room poker room golf simulator and putting green\n",
      "move in visa giftcard will be handed to new tenants upon rental lease signing\n",
      "this spacious 3 bedroom/2 bath residence also features oak hardwood flooring\n",
      "gourmet open kitchen with granite countertops and stainless steel appliances\n",
      "residents can choose from three high speed internet providers: verizon fios\n",
      "1 block from main avenue for tons of restaurants & stores as well as buses\n",
      "000 square feet of spa and gym facilities including a 75 foot indoor pool\n",
      "expansive rooftop lounge with outdoor terrace boasting spectacular views\n",
      "dishwasherhardwood floors laundry in unitmicrowave private outdoor space\n",
      "three huge windows facing east with unobstructed views over fort greene\n",
      "partially furnished with two (2) air conditioners and microwave unit.\n",
      "gym: state of the art techno gym cardio and weight training equipment\n",
      "premier resident services offered by our friendly and helpful staff\n",
      "exposed brickhardwood floors microwaverenovated open view excellent\n",
      "elegant glass enclosed private lounge with magnificent river views\n",
      "24 hour parking garage with an electric vehicle charging station.\n",
      "owner occupied in 3 family building 917 714 1700 or 718 857 4718\n",
      "and breathtaking views of new york city from our rooftop terrace\n",
      "pre war building near fort tryon park and the cloisters museum.\n",
      "no fee specialist harry ego 718.413.8270 hego@citihabitats.com\n",
      "building link notification & key track for tenants convenience\n",
      "outdoor roof deck overlooking new york harbor and battery park\n",
      "spacious and sunny 1st floor apartment overlooking the garden\n",
      "huge private back yard with granite paved exterior patio area\n",
      "double height lobby french limestone and rojo alicante marble\n",
      "domed ceiling lobby with wood paneled walls and marble floors\n",
      "telephonic intercom system/multiple phone lines per residence\n",
      "arguably the most well maintained luxury highrise in the city\n"
     ]
    }
   ],
   "source": [
    "for name in get_longest_features(feature_counts, 50)['name']:\n",
    "    print name"
   ]
  }
 ],
 "metadata": {
  "kernelspec": {
   "display_name": "Python 2",
   "language": "python",
   "name": "python2"
  },
  "language_info": {
   "codemirror_mode": {
    "name": "ipython",
    "version": 2
   },
   "file_extension": ".py",
   "mimetype": "text/x-python",
   "name": "python",
   "nbconvert_exporter": "python",
   "pygments_lexer": "ipython2",
   "version": "2.7.12"
  }
 },
 "nbformat": 4,
 "nbformat_minor": 2
}
